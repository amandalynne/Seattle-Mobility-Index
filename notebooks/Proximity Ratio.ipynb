{
 "cells": [
  {
   "cell_type": "code",
   "execution_count": 1,
   "metadata": {
    "collapsed": true
   },
   "outputs": [],
   "source": [
    "import numpy as np\n",
    "import pandas as pd\n"
   ]
  },
  {
   "cell_type": "code",
   "execution_count": 19,
   "metadata": {},
   "outputs": [
    {
     "name": "stdout",
     "output_type": "stream",
     "text": [
      "        tract  dist_under_2  dist_2_to_10  bg_dest  proximity_ratio\n",
      "0   530330001  10328.365437  11900.151717      146         0.867919\n",
      "1   530330004   7693.770448   7545.888617      343         1.019598\n",
      "2   530330006  12044.093067  39586.953019      174         0.304244\n",
      "3   530330007   2600.046696   7574.386992      395         0.343268\n",
      "4   530330012  12956.382692  27226.628342      451         0.475872\n",
      "5   530330013   3427.068778   3610.793207      157         0.949118\n",
      "6   530330016   5979.753801   5622.356621      107         1.063567\n",
      "7   530330017  13707.611589  14087.109868      268         0.973061\n",
      "8   530330018   3443.767945   9471.808855      315         0.363581\n",
      "9   530330019   8351.600472  16086.525641      191         0.519167\n",
      "10  530330026  10669.383109   7676.895672      320         1.389804\n",
      "11  530330030   7692.010067   3812.649916      140         2.017497\n",
      "12  530330032  14249.670940   9318.448361      245         1.529189\n",
      "13  530330033  21543.037880   6349.468521      363         3.392888\n",
      "14  530330036  23751.199533   9744.994898      548         2.437272\n",
      "15  530330041  17647.884984   6675.458775      134         2.643696\n",
      "16  530330042  18241.788866  10823.799663      100         1.685341\n",
      "17  530330043   8992.825188  27673.269434      522         0.324964\n",
      "18  530330044  19678.205363  11586.199534      302         1.698418\n",
      "19  530330046   5193.994904  18134.142339      104         0.286421\n",
      "20  530330047  42447.877683  26297.605868      977         1.614135\n",
      "21  530330049  12652.196633  13764.947171      409         0.919161\n",
      "22  530330050  25289.203807  14636.265258      320         1.727845\n",
      "23  530330052  33262.502400   9597.554700      443         3.465727\n",
      "24  530330053  87739.485244  57615.909904     1293         1.522834\n",
      "25  530330054  23212.291366  17004.596778      399         1.365060\n",
      "26  530330058  18388.363049  22923.321984      214         0.802168\n",
      "27  530330059   4762.746139   6203.076949      143         0.767804\n",
      "28  530330061  13173.184747   9467.853822      173         1.391359\n",
      "29  530330065   2411.769481   3115.469065      111         0.774127\n",
      "..        ...           ...           ...      ...              ...\n",
      "37  530330075  25682.046142  12147.303688      774         2.114218\n",
      "38  530330076   6414.282930   3230.533270      189         1.985518\n",
      "39  530330079  19977.608307   7471.455876      325         2.673857\n",
      "40  530330080  18925.060715   9677.786861      539         1.955515\n",
      "41  530330082  13617.574467  10750.439021      480         1.266699\n",
      "42  530330083  15760.908266   7425.934667      162         2.122414\n",
      "43  530330084  14480.067379   9205.664406      425         1.572952\n",
      "44  530330085  21193.176450  11362.776027      223         1.865141\n",
      "45  530330086  12096.735159  15167.034299      288         0.797568\n",
      "46  530330087   5277.706324   4211.064965      368         1.253295\n",
      "47  530330089   5838.289768   1089.604100      122         5.358175\n",
      "48  530330090   4448.686828   4580.717528      222         0.971177\n",
      "49  530330091  12407.618978  10166.900362      365         1.220393\n",
      "50  530330092   5883.844211  14546.765106      217         0.404478\n",
      "51  530330093  17206.176235  44407.394755      945         0.387462\n",
      "52  530330094  13052.082660   6874.498722      287         1.898623\n",
      "53  530330095   9770.872326  14315.709726      371         0.682528\n",
      "54  530330096   5215.406281   2326.845160      162         2.241407\n",
      "55  530330098  52477.122239  13613.874441      505         3.854679\n",
      "56  530330099   7363.818718  12719.685553      272         0.578931\n",
      "57  530330100  15882.407056  21404.753488      287         0.742004\n",
      "58  530330101   2360.416360   2280.156618      157         1.035199\n",
      "59  530330103  16242.320589   6527.114158      340         2.488438\n",
      "60  530330105  21038.939466  22544.745600      310         0.933208\n",
      "61  530330106  16494.783323  14979.298984      364         1.101172\n",
      "62  530330109   1864.525059   5101.852690      183         0.365460\n",
      "63  530330110   7553.438409   5299.652558      223         1.425270\n",
      "64  530330112    983.483636   4933.099640      136         0.199364\n",
      "65  530330114   8427.052118   9041.057939      325         0.932087\n",
      "66  530330118  13096.987567   8691.021484      180         1.506956\n",
      "\n",
      "[67 rows x 5 columns]\n"
     ]
    }
   ],
   "source": [
    "# load the trip data set\n",
    "data_dir = './data/'\n",
    "df_trip = pd.read_csv('V:\\\\Asset Management Program\\\\Data Science\\\\Data\\\\Trip_Household_Merged.csv', low_memory=False)\n",
    "\n",
    "# Filter trips that end outside seattle\n",
    "df_trip = df_trip[df_trip['uv_origin'] != \"Outside Seattle\"]\n",
    "\n",
    "# clean errors\n",
    "#df_trip = df_trip[df_trip['trip_path_distance'] != \" \"]\n",
    "df_trip['trip_path_distance'] = df_trip['trip_path_distance'].astype(float)\n",
    "\n",
    "# create bins, apply weights\n",
    "df_trip['dist_under_2'] = np.where(df_trip['trip_path_distance']<2, df_trip['trip_wt_final'], 0)\n",
    "df_trip['dist_2_to_10'] = np.where((df_trip['trip_path_distance']>=2) & \n",
    "                                   (df_trip['trip_path_distance']<10), df_trip['trip_wt_final'], 0)\n",
    "# calculate census tract\n",
    "df_trip['tract'] = df_trip['bg_origin'].astype(str).apply(lambda x: x[:9])\n",
    "                          \n",
    "# aggregate by blockgroup origin\n",
    "df_proximity = df_trip.groupby(['tract'], as_index=False).agg({'dist_under_2':sum,\n",
    "                                                                    'dist_2_to_10':sum,\n",
    "                                                                  'bg_dest':'count'})\n",
    "# filter blockgroups with trips less than 25\n",
    "df_proximity = df_proximity[df_proximity['bg_dest'] >= 100]\n",
    "df_proximity['proximity_ratio'] = df_proximity['dist_under_2']/df_proximity['dist_2_to_10']\n",
    "\n",
    "# remove outliers\n",
    "df_proximity = df_proximity[df_proximity['proximity_ratio'] < 6]\n",
    "\n",
    "\n",
    "df_proximity = df_proximity.reset_index(drop=True)\n",
    "print (df_proximity)\n",
    "df_proximity.to_csv('V:\\\\Asset Management Program\\\\Data Science\\\\Data\\\\Proximity_Ratio.csv', mode='w', header=True, index=False)\n"
   ]
  },
  {
   "cell_type": "code",
   "execution_count": 68,
   "metadata": {},
   "outputs": [
    {
     "name": "stdout",
     "output_type": "stream",
     "text": [
      "mean_squared_error:  0.0\n"
     ]
    }
   ],
   "source": [
    "# evaluate results\n",
    "from sklearn.metrics import mean_squared_error\n",
    "\n",
    "target = df_proximity['proximity_ratio']\n",
    "predictions = df_proximity['proximity_ratio']\n",
    "\n",
    "mse = mean_squared_error(target, predictions)\n",
    "print (\"mean_squared_error: \", mse)"
   ]
  },
  {
   "cell_type": "code",
   "execution_count": 9,
   "metadata": {},
   "outputs": [
    {
     "name": "stdout",
     "output_type": "stream",
     "text": [
      "234346672\n"
     ]
    }
   ],
   "source": [
    "origin = 234346672345\n",
    "print (str(origin)[0:9])"
   ]
  },
  {
   "cell_type": "code",
   "execution_count": null,
   "metadata": {
    "collapsed": true
   },
   "outputs": [],
   "source": []
  }
 ],
 "metadata": {
  "kernelspec": {
   "display_name": "Python 3",
   "language": "python",
   "name": "python3"
  },
  "language_info": {
   "codemirror_mode": {
    "name": "ipython",
    "version": 3
   },
   "file_extension": ".py",
   "mimetype": "text/x-python",
   "name": "python",
   "nbconvert_exporter": "python",
   "pygments_lexer": "ipython3",
   "version": "3.6.3"
  }
 },
 "nbformat": 4,
 "nbformat_minor": 2
}
