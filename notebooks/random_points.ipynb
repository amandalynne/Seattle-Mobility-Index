{
 "cells": [
  {
   "cell_type": "markdown",
   "metadata": {},
   "source": [
    "This notebook includes the elements used to crete a random lat, lon generator within the area of the index. We need rando, lat, lon as inputs for tests to the geocoder."
   ]
  },
  {
   "cell_type": "code",
   "execution_count": 3,
   "metadata": {},
   "outputs": [
    {
     "ename": "ModuleNotFoundError",
     "evalue": "No module named 'init'",
     "output_type": "error",
     "traceback": [
      "\u001b[0;31m---------------------------------------------------------------------------\u001b[0m",
      "\u001b[0;31mModuleNotFoundError\u001b[0m                       Traceback (most recent call last)",
      "\u001b[0;32m<ipython-input-3-43abffa4239f>\u001b[0m in \u001b[0;36m<module>\u001b[0;34m()\u001b[0m\n\u001b[0;32m----> 1\u001b[0;31m \u001b[0;32mimport\u001b[0m \u001b[0minit\u001b[0m\u001b[0;34m\u001b[0m\u001b[0m\n\u001b[0m\u001b[1;32m      2\u001b[0m \u001b[0;32mimport\u001b[0m \u001b[0mconstants\u001b[0m \u001b[0;32mas\u001b[0m \u001b[0mcn\u001b[0m\u001b[0;34m\u001b[0m\u001b[0m\n",
      "\u001b[0;31mModuleNotFoundError\u001b[0m: No module named 'init'"
     ]
    }
   ],
   "source": [
    "import init\n",
    "import constants as cn\n",
    "\n"
   ]
  },
  {
   "cell_type": "code",
   "execution_count": 2,
   "metadata": {},
   "outputs": [],
   "source": [
    "DATADIR = cn.SHAPEFILE_DIR\n",
    "def read_shapefile(shapefile, column_name, data=DATADIR):\n",
    "    shapefile = str(shapefile) + '.shp'\n",
    "    gdf = gpd.read_file(os.path.join(os.pardir, DATADIR, shapefile))\n",
    "    gdf = gdf.loc[:, (column_name, cn.GEOMETRY)]\n",
    "    gdf = gdf.to_crs(cn.CRS_EPSG)\n",
    "    gdf.columns = [cn.KEY, cn.GEOMETRY]\n",
    "    return gdf\n",
    "gdf = read_shapefile(cn.BLKGRP_FNAME, cn.BLKGRP_KEY)\n"
   ]
  },
  {
   "cell_type": "code",
   "execution_count": 3,
   "metadata": {},
   "outputs": [],
   "source": []
  },
  {
   "cell_type": "code",
   "execution_count": 4,
   "metadata": {},
   "outputs": [],
   "source": [
    "def generate_random(number, polygon):\n",
    "    list_of_points = []\n",
    "    minx, miny, maxx, maxy = polygon.bounds\n",
    "    counter = 0\n",
    "    while counter < number:\n",
    "        pnt = Point(random.uniform(minx, maxx), random.uniform(miny, maxy))\n",
    "        if polygon.contains(pnt):\n",
    "            list_of_points.append(pnt)\n",
    "            counter += 1\n",
    "    return list_of_points\n",
    "            \n",
    "\n",
    "#SAMPLE A NUMBER OF POINTS df.sample(n)"
   ]
  },
  {
   "cell_type": "code",
   "execution_count": 123,
   "metadata": {},
   "outputs": [],
   "source": [
    "def random_to_csv(geodataframe, outputfilename):\n",
    "    points_dict = {}\n",
    "    lat_lon_pair = []\n",
    "    for i in range(len(geodataframe['geometry'])):\n",
    "        random_point= generate_random(1, geodataframe.loc[i,['GEO_ID_GRP', 'geometry']][1])\n",
    "        lat_lon_pair.append(random_point[0].x)\n",
    "        lat_lon_pair.append(random_point[0].y)\n",
    "        points_dict[geodataframe['GEO_ID_GRP'][i]]= lat_lon_pair\n",
    "        lat_lon_pair = []\n",
    "    df = pd.DataFrame.from_dict(points_dict, orient='index')\n",
    "    df.index.name = 'GEO_ID_GRP'\n",
    "    df.columns = ['lat', 'lon']\n",
    "    df.to_csv(outputfilename, encoding='utf-8', index=True)\n",
    "    return df\n"
   ]
  },
  {
   "cell_type": "code",
   "execution_count": 103,
   "metadata": {},
   "outputs": [
    {
     "data": {
      "text/html": [
       "<div>\n",
       "<style scoped>\n",
       "    .dataframe tbody tr th:only-of-type {\n",
       "        vertical-align: middle;\n",
       "    }\n",
       "\n",
       "    .dataframe tbody tr th {\n",
       "        vertical-align: top;\n",
       "    }\n",
       "\n",
       "    .dataframe thead th {\n",
       "        text-align: right;\n",
       "    }\n",
       "</style>\n",
       "<table border=\"1\" class=\"dataframe\">\n",
       "  <thead>\n",
       "    <tr style=\"text-align: right;\">\n",
       "      <th></th>\n",
       "      <th>GEO_ID_GRP</th>\n",
       "      <th>Shape_area</th>\n",
       "      <th>geometry</th>\n",
       "    </tr>\n",
       "  </thead>\n",
       "  <tbody>\n",
       "    <tr>\n",
       "      <th>0</th>\n",
       "      <td>530330001001</td>\n",
       "      <td>8.967593e+06</td>\n",
       "      <td>POLYGON ((-122.2841872052759 47.73360555151095...</td>\n",
       "    </tr>\n",
       "    <tr>\n",
       "      <th>1</th>\n",
       "      <td>530330001002</td>\n",
       "      <td>3.104000e+06</td>\n",
       "      <td>POLYGON ((-122.2897518162644 47.73373385941476...</td>\n",
       "    </tr>\n",
       "    <tr>\n",
       "      <th>2</th>\n",
       "      <td>530330001003</td>\n",
       "      <td>3.990298e+06</td>\n",
       "      <td>POLYGON ((-122.2895587836067 47.72644986052015...</td>\n",
       "    </tr>\n",
       "    <tr>\n",
       "      <th>3</th>\n",
       "      <td>530330001004</td>\n",
       "      <td>1.360694e+06</td>\n",
       "      <td>POLYGON ((-122.2924338167398 47.73375285274882...</td>\n",
       "    </tr>\n",
       "    <tr>\n",
       "      <th>4</th>\n",
       "      <td>530330001005</td>\n",
       "      <td>2.481027e+06</td>\n",
       "      <td>POLYGON ((-122.2922647847798 47.72647585486412...</td>\n",
       "    </tr>\n",
       "  </tbody>\n",
       "</table>\n",
       "</div>"
      ],
      "text/plain": [
       "     GEO_ID_GRP    Shape_area  \\\n",
       "0  530330001001  8.967593e+06   \n",
       "1  530330001002  3.104000e+06   \n",
       "2  530330001003  3.990298e+06   \n",
       "3  530330001004  1.360694e+06   \n",
       "4  530330001005  2.481027e+06   \n",
       "\n",
       "                                            geometry  \n",
       "0  POLYGON ((-122.2841872052759 47.73360555151095...  \n",
       "1  POLYGON ((-122.2897518162644 47.73373385941476...  \n",
       "2  POLYGON ((-122.2895587836067 47.72644986052015...  \n",
       "3  POLYGON ((-122.2924338167398 47.73375285274882...  \n",
       "4  POLYGON ((-122.2922647847798 47.72647585486412...  "
      ]
     },
     "execution_count": 103,
     "metadata": {},
     "output_type": "execute_result"
    }
   ],
   "source": [
    "gdf.head()"
   ]
  },
  {
   "cell_type": "code",
   "execution_count": 101,
   "metadata": {},
   "outputs": [],
   "source": [
    "# def random_to_csv(geodataframe, outputfilename):\n",
    "#     random_points = []\n",
    "#     for i in range(len(geodataframe['geometry'])):\n",
    "#         random_point= generate_random(1, geodataframe.loc[i,['GEO_ID_GRP', 'geometry']][1])\n",
    "#         random_points.append(random_point)\n",
    "    \n",
    "#     lat_lon_pairs_list = []\n",
    "#     for list in random_points:\n",
    "#         for pp in list:\n",
    "#             lat_lon_dict = {}\n",
    "#             lat_lon_dict['lat']= pp.x\n",
    "#             lat_lon_dict['lon']= pp.y\n",
    "#             lat_lon_pairs_list.append(lat_lon_dict)\n",
    "\n",
    "#         lat_lon_df = pd.DataFrame(lat_lon_pairs_list)\n",
    "#         lat_lon_df.to_csv(outputfilename, encoding='utf-8', index=False)\n",
    "\n"
   ]
  },
  {
   "cell_type": "code",
   "execution_count": 124,
   "metadata": {},
   "outputs": [],
   "source": [
    "example = random_to_csv(gdf, 'test4.csv')"
   ]
  },
  {
   "cell_type": "code",
   "execution_count": 122,
   "metadata": {},
   "outputs": [
    {
     "data": {
      "text/html": [
       "<div>\n",
       "<style scoped>\n",
       "    .dataframe tbody tr th:only-of-type {\n",
       "        vertical-align: middle;\n",
       "    }\n",
       "\n",
       "    .dataframe tbody tr th {\n",
       "        vertical-align: top;\n",
       "    }\n",
       "\n",
       "    .dataframe thead th {\n",
       "        text-align: right;\n",
       "    }\n",
       "</style>\n",
       "<table border=\"1\" class=\"dataframe\">\n",
       "  <thead>\n",
       "    <tr style=\"text-align: right;\">\n",
       "      <th></th>\n",
       "      <th>lat</th>\n",
       "      <th>lon</th>\n",
       "    </tr>\n",
       "    <tr>\n",
       "      <th>GEO_ID_GRP</th>\n",
       "      <th></th>\n",
       "      <th></th>\n",
       "    </tr>\n",
       "  </thead>\n",
       "  <tbody>\n",
       "    <tr>\n",
       "      <th>530330001001</th>\n",
       "      <td>-122.284994</td>\n",
       "      <td>47.722494</td>\n",
       "    </tr>\n",
       "    <tr>\n",
       "      <th>530330001002</th>\n",
       "      <td>-122.294984</td>\n",
       "      <td>47.729968</td>\n",
       "    </tr>\n",
       "    <tr>\n",
       "      <th>530330001003</th>\n",
       "      <td>-122.289397</td>\n",
       "      <td>47.721283</td>\n",
       "    </tr>\n",
       "    <tr>\n",
       "      <th>530330001004</th>\n",
       "      <td>-122.294759</td>\n",
       "      <td>47.732361</td>\n",
       "    </tr>\n",
       "    <tr>\n",
       "      <th>530330001005</th>\n",
       "      <td>-122.293176</td>\n",
       "      <td>47.722467</td>\n",
       "    </tr>\n",
       "  </tbody>\n",
       "</table>\n",
       "</div>"
      ],
      "text/plain": [
       "                     lat        lon\n",
       "GEO_ID_GRP                         \n",
       "530330001001 -122.284994  47.722494\n",
       "530330001002 -122.294984  47.729968\n",
       "530330001003 -122.289397  47.721283\n",
       "530330001004 -122.294759  47.732361\n",
       "530330001005 -122.293176  47.722467"
      ]
     },
     "execution_count": 122,
     "metadata": {},
     "output_type": "execute_result"
    }
   ],
   "source": [
    "example.head()\n"
   ]
  },
  {
   "cell_type": "code",
   "execution_count": 120,
   "metadata": {},
   "outputs": [
    {
     "data": {
      "text/plain": [
       "0    POLYGON ((-122.2841872052759 47.73360555151095...\n",
       "1    POLYGON ((-122.2897518162644 47.73373385941476...\n",
       "2    POLYGON ((-122.2895587836067 47.72644986052015...\n",
       "3    POLYGON ((-122.2924338167398 47.73375285274882...\n",
       "4    POLYGON ((-122.2922647847798 47.72647585486412...\n",
       "Name: geometry, dtype: object"
      ]
     },
     "execution_count": 120,
     "metadata": {},
     "output_type": "execute_result"
    }
   ],
   "source": [
    "gdf['geometry'].head()\n",
    "\n"
   ]
  },
  {
   "cell_type": "code",
   "execution_count": 97,
   "metadata": {},
   "outputs": [
    {
     "data": {
      "text/plain": [
       "0       POLYGON ((-122.2841872052759 47.73360555151095...\n",
       "1       POLYGON ((-122.2897518162644 47.73373385941476...\n",
       "2       POLYGON ((-122.2895587836067 47.72644986052015...\n",
       "3       POLYGON ((-122.2924338167398 47.73375285274882...\n",
       "4       POLYGON ((-122.2922647847798 47.72647585486412...\n",
       "5       POLYGON ((-122.296518817057 47.73378584434474,...\n",
       "6       POLYGON ((-122.2991367770753 47.72472684088635...\n",
       "7       POLYGON ((-122.3154418176611 47.73397680387622...\n",
       "8       POLYGON ((-122.3086948168129 47.7339058182076,...\n",
       "9       POLYGON ((-122.3126507855691 47.72662081179384...\n",
       "10      POLYGON ((-122.3019538169408 47.73382983237983...\n",
       "11      POLYGON ((-122.3247328183643 47.73406278347231...\n",
       "12      POLYGON ((-122.3369818182576 47.73413475762107...\n",
       "13      POLYGON ((-122.3517728182319 47.73412972571338...\n",
       "14      POLYGON ((-122.3555708179865 47.73413071738082...\n",
       "15      POLYGON ((-122.3481417697033 47.72321873770193...\n",
       "16      POLYGON ((-122.3555507782496 47.72504972198071...\n",
       "17      POLYGON ((-122.3481417697033 47.72321873770193...\n",
       "18      POLYGON ((-122.3502587381513 47.71595973693455...\n",
       "19      POLYGON ((-122.3503127535804 47.71958673503372...\n",
       "20      POLYGON ((-122.361133676571 47.73414097189242,...\n",
       "21      POLYGON ((-122.3609467777123 47.72507671047394...\n",
       "22      POLYGON ((-122.3663657620961 47.72147970066982...\n",
       "23      POLYGON ((-122.3355737944454 47.72867176228458...\n",
       "24      POLYGON ((-122.312616744936 47.71760181418608,...\n",
       "25      POLYGON ((-122.328933764332 47.72199677904504,...\n",
       "26      POLYGON ((-122.3288557424207 47.71708578095225...\n",
       "27      POLYGON ((-122.3235647696549 47.72309478943004...\n",
       "28      POLYGON ((-122.3126787528133 47.71943781391433...\n",
       "29      POLYGON ((-122.2963137529594 47.71928484779149...\n",
       "                              ...                        \n",
       "1392    POLYGON ((-121.9619180636761 47.7355033427257,...\n",
       "1393    POLYGON ((-121.9713850613502 47.73620333407431...\n",
       "1394    POLYGON ((-121.9002299165801 47.69441744247899...\n",
       "1395    POLYGON ((-121.9619220146534 47.72515535378447...\n",
       "1396    POLYGON ((-121.6697347777545 47.7772253986538,...\n",
       "1397    POLYGON ((-121.7996890268776 47.68914096739864...\n",
       "1398    POLYGON ((-121.9245998627848 47.66566046477098...\n",
       "1399    POLYGON ((-121.8568668501099 47.67034950735689...\n",
       "1400    POLYGON ((-121.8874023812564 47.56821458715712...\n",
       "1401    POLYGON ((-121.8267597526677 47.63930656665448...\n",
       "1402    POLYGON ((-121.8265375124557 47.53045666917224...\n",
       "1403    (POLYGON ((-121.8871794073859 47.5693026936661...\n",
       "1404    POLYGON ((-121.8684152474997 47.53018364330729...\n",
       "1405    POLYGON ((-121.8319013385298 47.53783466693744...\n",
       "1406    POLYGON ((-121.8119042235483 47.49449567329606...\n",
       "1407    POLYGON ((-121.7571174142416 47.45755627190334...\n",
       "1408    POLYGON ((-121.7161377205975 47.46552321822568...\n",
       "1409    POLYGON ((-121.7584593969637 47.46327634018787...\n",
       "1410    POLYGON ((-121.5349034563395 47.54693591610651...\n",
       "1411    POLYGON ((-121.774769373436 47.44737518030026,...\n",
       "1412    POLYGON ((-121.8491312078484 47.51290667862339...\n",
       "1413    POLYGON ((-121.7860703640007 47.52523272029378...\n",
       "1414    POLYGON ((-121.7615208512356 47.48523694415828...\n",
       "1415    POLYGON ((-121.7957182514018 47.49963973483132...\n",
       "1416    POLYGON ((-121.7765883613327 47.52035273403091...\n",
       "1417    POLYGON ((-121.7615208512356 47.48523694415828...\n",
       "1418    POLYGON ((-121.7153792318653 47.68892846857683...\n",
       "1419    POLYGON ((-121.5349034563395 47.54693591610651...\n",
       "1420    POLYGON ((-121.2534856648778 47.53323220567533...\n",
       "1421    (POLYGON ((-122.4403990167473 47.4497090559712...\n",
       "Name: geometry, Length: 1422, dtype: object"
      ]
     },
     "execution_count": 97,
     "metadata": {},
     "output_type": "execute_result"
    }
   ],
   "source": [
    "len(gdf['geometry'])\n",
    "gdf['geometry']"
   ]
  },
  {
   "cell_type": "code",
   "execution_count": 98,
   "metadata": {},
   "outputs": [
    {
     "name": "stdout",
     "output_type": "stream",
     "text": [
      "[[<shapely.geometry.point.Point object at 0x111d71e48>], [<shapely.geometry.point.Point object at 0x111d75a90>], [<shapely.geometry.point.Point object at 0x111e75cf8>], [<shapely.geometry.point.Point object at 0x111ef0e80>], [<shapely.geometry.point.Point object at 0x111e9af98>], [<shapely.geometry.point.Point object at 0x111ef0b70>], [<shapely.geometry.point.Point object at 0x111e35c18>], [<shapely.geometry.point.Point object at 0x111eb5278>], [<shapely.geometry.point.Point object at 0x111e6d5f8>], [<shapely.geometry.point.Point object at 0x11279ae80>]]\n"
     ]
    }
   ],
   "source": [
    "random_points = []\n",
    "#for i in range(len(gdf['geometry'])):\n",
    "for i in range(10):\n",
    "    random_point= generate_random(1, gdf.loc[i,['GEO_ID_GRP', 'geometry']][1])\n",
    "    random_points.append(random_point)\n",
    "print(random_points)\n",
    "    \n"
   ]
  },
  {
   "cell_type": "code",
   "execution_count": 19,
   "metadata": {},
   "outputs": [
    {
     "data": {
      "text/html": [
       "<div>\n",
       "<style scoped>\n",
       "    .dataframe tbody tr th:only-of-type {\n",
       "        vertical-align: middle;\n",
       "    }\n",
       "\n",
       "    .dataframe tbody tr th {\n",
       "        vertical-align: top;\n",
       "    }\n",
       "\n",
       "    .dataframe thead th {\n",
       "        text-align: right;\n",
       "    }\n",
       "</style>\n",
       "<table border=\"1\" class=\"dataframe\">\n",
       "  <thead>\n",
       "    <tr style=\"text-align: right;\">\n",
       "      <th></th>\n",
       "      <th>GEO_ID_GRP</th>\n",
       "      <th>Shape_area</th>\n",
       "      <th>geometry</th>\n",
       "    </tr>\n",
       "  </thead>\n",
       "  <tbody>\n",
       "    <tr>\n",
       "      <th>0</th>\n",
       "      <td>530330001001</td>\n",
       "      <td>8.967593e+06</td>\n",
       "      <td>POLYGON ((-122.2841872052759 47.73360555151095...</td>\n",
       "    </tr>\n",
       "    <tr>\n",
       "      <th>1</th>\n",
       "      <td>530330001002</td>\n",
       "      <td>3.104000e+06</td>\n",
       "      <td>POLYGON ((-122.2897518162644 47.73373385941476...</td>\n",
       "    </tr>\n",
       "    <tr>\n",
       "      <th>2</th>\n",
       "      <td>530330001003</td>\n",
       "      <td>3.990298e+06</td>\n",
       "      <td>POLYGON ((-122.2895587836067 47.72644986052015...</td>\n",
       "    </tr>\n",
       "    <tr>\n",
       "      <th>3</th>\n",
       "      <td>530330001004</td>\n",
       "      <td>1.360694e+06</td>\n",
       "      <td>POLYGON ((-122.2924338167398 47.73375285274882...</td>\n",
       "    </tr>\n",
       "    <tr>\n",
       "      <th>4</th>\n",
       "      <td>530330001005</td>\n",
       "      <td>2.481027e+06</td>\n",
       "      <td>POLYGON ((-122.2922647847798 47.72647585486412...</td>\n",
       "    </tr>\n",
       "  </tbody>\n",
       "</table>\n",
       "</div>"
      ],
      "text/plain": [
       "     GEO_ID_GRP    Shape_area  \\\n",
       "0  530330001001  8.967593e+06   \n",
       "1  530330001002  3.104000e+06   \n",
       "2  530330001003  3.990298e+06   \n",
       "3  530330001004  1.360694e+06   \n",
       "4  530330001005  2.481027e+06   \n",
       "\n",
       "                                            geometry  \n",
       "0  POLYGON ((-122.2841872052759 47.73360555151095...  \n",
       "1  POLYGON ((-122.2897518162644 47.73373385941476...  \n",
       "2  POLYGON ((-122.2895587836067 47.72644986052015...  \n",
       "3  POLYGON ((-122.2924338167398 47.73375285274882...  \n",
       "4  POLYGON ((-122.2922647847798 47.72647585486412...  "
      ]
     },
     "execution_count": 19,
     "metadata": {},
     "output_type": "execute_result"
    }
   ],
   "source": [
    "\n",
    "gdf.head()\n",
    "    \n",
    "\n",
    "#print (listarray)\n",
    "    "
   ]
  },
  {
   "cell_type": "code",
   "execution_count": 18,
   "metadata": {},
   "outputs": [
    {
     "ename": "NameError",
     "evalue": "name 'lat_lon_df' is not defined",
     "output_type": "error",
     "traceback": [
      "\u001b[0;31m---------------------------------------------------------------------------\u001b[0m",
      "\u001b[0;31mNameError\u001b[0m                                 Traceback (most recent call last)",
      "\u001b[0;32m<ipython-input-18-af87e8b96de1>\u001b[0m in \u001b[0;36m<module>\u001b[0;34m()\u001b[0m\n\u001b[0;32m----> 1\u001b[0;31m \u001b[0mlat_lon_df\u001b[0m\u001b[0;34m.\u001b[0m\u001b[0mhead\u001b[0m\u001b[0;34m(\u001b[0m\u001b[0;34m)\u001b[0m\u001b[0;34m\u001b[0m\u001b[0m\n\u001b[0m",
      "\u001b[0;31mNameError\u001b[0m: name 'lat_lon_df' is not defined"
     ]
    }
   ],
   "source": [
    "lat_lon_df.head()"
   ]
  },
  {
   "cell_type": "code",
   "execution_count": 12,
   "metadata": {},
   "outputs": [
    {
     "ename": "NameError",
     "evalue": "name 'lat_lon_df' is not defined",
     "output_type": "error",
     "traceback": [
      "\u001b[0;31m---------------------------------------------------------------------------\u001b[0m",
      "\u001b[0;31mNameError\u001b[0m                                 Traceback (most recent call last)",
      "\u001b[0;32m<ipython-input-12-db4623930939>\u001b[0m in \u001b[0;36m<module>\u001b[0;34m()\u001b[0m\n\u001b[0;32m----> 1\u001b[0;31m \u001b[0mlat_lon_df\u001b[0m\u001b[0;34m.\u001b[0m\u001b[0mto_csv\u001b[0m\u001b[0;34m(\u001b[0m\u001b[0;34m'test_points.csv'\u001b[0m\u001b[0;34m,\u001b[0m \u001b[0mencoding\u001b[0m\u001b[0;34m=\u001b[0m\u001b[0;34m'utf-8'\u001b[0m\u001b[0;34m,\u001b[0m \u001b[0mindex\u001b[0m\u001b[0;34m=\u001b[0m\u001b[0;32mFalse\u001b[0m\u001b[0;34m)\u001b[0m\u001b[0;34m\u001b[0m\u001b[0m\n\u001b[0m",
      "\u001b[0;31mNameError\u001b[0m: name 'lat_lon_df' is not defined"
     ]
    }
   ],
   "source": [
    "lat_lon_df.to_csv('test_points.csv', encoding='utf-8', index=False)"
   ]
  },
  {
   "cell_type": "code",
   "execution_count": 13,
   "metadata": {},
   "outputs": [
    {
     "ename": "NameError",
     "evalue": "name 'nparray' is not defined",
     "output_type": "error",
     "traceback": [
      "\u001b[0;31m---------------------------------------------------------------------------\u001b[0m",
      "\u001b[0;31mNameError\u001b[0m                                 Traceback (most recent call last)",
      "\u001b[0;32m<ipython-input-13-4f5773f94ead>\u001b[0m in \u001b[0;36m<module>\u001b[0;34m()\u001b[0m\n\u001b[0;32m----> 1\u001b[0;31m \u001b[0mtype\u001b[0m\u001b[0;34m(\u001b[0m\u001b[0mnparray\u001b[0m\u001b[0;34m[\u001b[0m\u001b[0;36m1\u001b[0m\u001b[0;34m]\u001b[0m\u001b[0;34m)\u001b[0m\u001b[0;34m\u001b[0m\u001b[0m\n\u001b[0m",
      "\u001b[0;31mNameError\u001b[0m: name 'nparray' is not defined"
     ]
    }
   ],
   "source": [
    "type(nparray[1])"
   ]
  },
  {
   "cell_type": "code",
   "execution_count": 35,
   "metadata": {},
   "outputs": [
    {
     "data": {
      "text/plain": [
       "2"
      ]
     },
     "execution_count": 35,
     "metadata": {},
     "output_type": "execute_result"
    }
   ],
   "source": [
    "len(nparray[1])"
   ]
  },
  {
   "cell_type": "code",
   "execution_count": 37,
   "metadata": {},
   "outputs": [
    {
     "data": {
      "text/plain": [
       "47.72660256689483"
      ]
     },
     "execution_count": 37,
     "metadata": {},
     "output_type": "execute_result"
    }
   ],
   "source": [
    "nparray[1][1]"
   ]
  },
  {
   "cell_type": "code",
   "execution_count": 38,
   "metadata": {},
   "outputs": [
    {
     "data": {
      "text/plain": [
       "<matplotlib.axes._subplots.AxesSubplot at 0x110139cc0>"
      ]
     },
     "execution_count": 38,
     "metadata": {},
     "output_type": "execute_result"
    },
    {
     "data": {
      "image/png": "[encoded data removed]",
      "text/plain": [
       "<Figure size 432x288 with 1 Axes>"
      ]
     },
     "metadata": {},
     "output_type": "display_data"
    }
   ],
   "source": [
    "gdf.loc[:,['GEO_ID_GRP', 'geometry']].plot(cmap=\"tab20b\")  "
   ]
  },
  {
   "cell_type": "code",
   "execution_count": null,
   "metadata": {},
   "outputs": [],
   "source": []
  },
  {
   "cell_type": "code",
   "execution_count": null,
   "metadata": {},
   "outputs": [],
   "source": []
  },
  {
   "cell_type": "code",
   "execution_count": 145,
   "metadata": {},
   "outputs": [
    {
     "data": {
      "image/svg+xml": [
       "<svg xmlns=\"http://www.w3.org/2000/svg\" xmlns:xlink=\"http://www.w3.org/1999/xlink\" width=\"100.0\" height=\"100.0\" viewBox=\"-122.30907713840995 47.72434451929656 0.010322682924410742 0.009943620500834527\" preserveAspectRatio=\"xMinYMin meet\"><g transform=\"matrix(1,0,0,-1,0,95.45863265909395)\"><path fill-rule=\"evenodd\" fill=\"#66cc99\" stroke=\"#555555\" stroke-width=\"0.00020645365848821485\" opacity=\"0.6\" d=\"M -122.30195381694075,47.73382983237983 L -122.30196581659384,47.73373183237052 L -122.30196481645177,47.73368083273497 L -122.3019418092789,47.73201183332168 L -122.30193380617594,47.73146583361935 L -122.30193880252472,47.73041983357618 L -122.30194480064294,47.73017183382136 L -122.30209780060989,47.73014883280137 L -122.3025607998758,47.729981832485635 L -122.30191379567952,47.72893883393727 L -122.30181879442029,47.7286628339176 L -122.3017887921459,47.72837483473303 L -122.30174678891883,47.727589834264 L -122.30156378782536,47.727205835216125 L -122.301532787905,47.7271418348855 L -122.3014877850054,47.726554835491356 L -122.30052578454108,47.72654683735519 L -122.29915078506687,47.72653484018339 L -122.29914277984705,47.725440840717354 L -122.29913677707533,47.72472684088635 L -122.30051377651998,47.72473883797007 L -122.30189177670941,47.72474983488469 L -122.3032507773012,47.724758831754116 L -122.30457177678635,47.724769829318305 L -122.30592877651134,47.724781826559834 L -122.30727577665365,47.72479382355841 L -122.30727678438997,47.72658782305661 L -122.30723578439856,47.726587823088046 L -122.30724178671088,47.726901823042546 L -122.30725178833183,47.72750782306839 L -122.30726679260393,47.72840682221868 L -122.30863879247988,47.72842082019555 L -122.30865780149406,47.7302598188554 L -122.30867680921475,47.732082818900096 L -122.30867780950771,47.732207818594766 L -122.30868081136722,47.73253081819997 L -122.30869381705867,47.733807818149344 L -122.30869481682015,47.73385481820358 L -122.3086948168129,47.7339058182076 L -122.30804381762854,47.733897819396724 L -122.30732481713846,47.73389082072115 L -122.30616981722562,47.73387782377512 L -122.3059928175022,47.733875824438016 L -122.30484281746821,47.733861826522684 L -122.30457281662878,47.73385782671195 L -122.30359781763623,47.73384782898724 L -122.30195381694075,47.73382983237983 z\" /></g></svg>"
      ],
      "text/plain": [
       "<shapely.geometry.polygon.Polygon at 0x1167a9be0>"
      ]
     },
     "execution_count": 145,
     "metadata": {},
     "output_type": "execute_result"
    }
   ],
   "source": [
    "gdf.loc[10,['GEO_ID_GRP', 'geometry']][1]"
   ]
  },
  {
   "cell_type": "code",
   "execution_count": 146,
   "metadata": {},
   "outputs": [],
   "source": [
    "generate_random(3, gdf.loc[10,['GEO_ID_GRP', 'geometry']][1])\n"
   ]
  },
  {
   "cell_type": "code",
   "execution_count": 164,
   "metadata": {},
   "outputs": [
    {
     "data": {
      "text/plain": [
       "[<shapely.geometry.point.Point at 0x12421d400>,\n",
       " <shapely.geometry.point.Point at 0x12421a668>,\n",
       " <shapely.geometry.point.Point at 0x12421a208>]"
      ]
     },
     "execution_count": 164,
     "metadata": {},
     "output_type": "execute_result"
    }
   ],
   "source": [
    "x"
   ]
  },
  {
   "cell_type": "code",
   "execution_count": 170,
   "metadata": {},
   "outputs": [
    {
     "name": "stdout",
     "output_type": "stream",
     "text": [
      "[<shapely.geometry.point.Point object at 0x12421d400>, <shapely.geometry.point.Point object at 0x12421a668>, <shapely.geometry.point.Point object at 0x12421a208>]\n",
      "[[-122.30653225   47.73161672]\n",
      " [-122.30500362   47.72775478]\n",
      " [-122.30531148   47.72604459]]\n"
     ]
    }
   ],
   "source": []
  },
  {
   "cell_type": "code",
   "execution_count": null,
   "metadata": {},
   "outputs": [],
   "source": []
  }
 ],
 "metadata": {
  "kernelspec": {
   "display_name": "Python 3",
   "language": "python",
   "name": "python3"
  }
 },
 "nbformat": 4,
 "nbformat_minor": 2
}
