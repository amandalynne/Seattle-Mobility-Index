{
 "cells": [
  {
   "cell_type": "code",
   "execution_count": 1,
   "metadata": {},
   "outputs": [],
   "source": [
    "import init\n",
    "import sys\n",
    "import os\n",
    "import constants as cn\n",
    "import pandas as pd\n",
    "import geopandas as gpd\n",
    "import shapely\n",
    "import fiona\n",
    "from fiona.crs import from_epsg\n",
    "from matplotlib import path\n",
    "from shapely.geometry import Point\n",
    "import numpy as np\n",
    "%matplotlib inline"
   ]
  },
  {
   "cell_type": "code",
   "execution_count": null,
   "metadata": {},
   "outputs": [],
   "source": [
    "#Include a comment paragraph about the data structure, how it was implemented"
   ]
  },
  {
   "cell_type": "code",
   "execution_count": 4,
   "metadata": {},
   "outputs": [
    {
     "data": {
      "text/plain": [
       "'/Users/hyeonjeongkim/Desktop'"
      ]
     },
     "execution_count": 4,
     "metadata": {},
     "output_type": "execute_result"
    }
   ],
   "source": [
    "os.getcwd()"
   ]
  },
  {
   "cell_type": "code",
   "execution_count": 7,
   "metadata": {},
   "outputs": [],
   "source": [
    "DATADIR = os.path.join(os.getcwd(), '/Users/hyeonjeongkim/dssg/Seattle-Mobility-Index/seamo/data/raw/shapefiles/')"
   ]
  },
  {
   "cell_type": "code",
   "execution_count": 124,
   "metadata": {
    "scrolled": true
   },
   "outputs": [
    {
     "data": {
      "text/plain": [
       "(1422, 3)"
      ]
     },
     "execution_count": 124,
     "metadata": {},
     "output_type": "execute_result"
    }
   ],
   "source": [
    "blkgrp = gpd.read_file(os.path.join(DATADIR, \"blkgrp10_shore.shp\"))\n",
    "blkgrp = blkgrp.loc[:, ('GEO_ID_GRP','geometry')]\n",
    "blkgrp = blkgrp.to_crs({'init' :'epsg:4326'})\n",
    "blkgrp.rename(columns={blkgrp.columns[0]: 'keys'}, inplace = True)\n",
    "blkgrp['Name'] = str('Block Group')\n",
    "\n",
    "blkgrp.shape"
   ]
  },
  {
   "cell_type": "code",
   "execution_count": 125,
   "metadata": {},
   "outputs": [
    {
     "data": {
      "text/html": [
       "<div>\n",
       "<style scoped>\n",
       "    .dataframe tbody tr th:only-of-type {\n",
       "        vertical-align: middle;\n",
       "    }\n",
       "\n",
       "    .dataframe tbody tr th {\n",
       "        vertical-align: top;\n",
       "    }\n",
       "\n",
       "    .dataframe thead th {\n",
       "        text-align: right;\n",
       "    }\n",
       "</style>\n",
       "<table border=\"1\" class=\"dataframe\">\n",
       "  <thead>\n",
       "    <tr style=\"text-align: right;\">\n",
       "      <th></th>\n",
       "      <th>keys</th>\n",
       "      <th>geometry</th>\n",
       "      <th>Name</th>\n",
       "    </tr>\n",
       "  </thead>\n",
       "  <tbody>\n",
       "    <tr>\n",
       "      <th>0</th>\n",
       "      <td>530330001001</td>\n",
       "      <td>POLYGON ((-122.2841872052759 47.73360555151095...</td>\n",
       "      <td>Block Group</td>\n",
       "    </tr>\n",
       "    <tr>\n",
       "      <th>1</th>\n",
       "      <td>530330001002</td>\n",
       "      <td>POLYGON ((-122.2897518162644 47.73373385941476...</td>\n",
       "      <td>Block Group</td>\n",
       "    </tr>\n",
       "    <tr>\n",
       "      <th>2</th>\n",
       "      <td>530330001003</td>\n",
       "      <td>POLYGON ((-122.2895587836067 47.72644986052015...</td>\n",
       "      <td>Block Group</td>\n",
       "    </tr>\n",
       "    <tr>\n",
       "      <th>3</th>\n",
       "      <td>530330001004</td>\n",
       "      <td>POLYGON ((-122.2924338167398 47.73375285274882...</td>\n",
       "      <td>Block Group</td>\n",
       "    </tr>\n",
       "    <tr>\n",
       "      <th>4</th>\n",
       "      <td>530330001005</td>\n",
       "      <td>POLYGON ((-122.2922647847798 47.72647585486412...</td>\n",
       "      <td>Block Group</td>\n",
       "    </tr>\n",
       "  </tbody>\n",
       "</table>\n",
       "</div>"
      ],
      "text/plain": [
       "           keys                                           geometry  \\\n",
       "0  530330001001  POLYGON ((-122.2841872052759 47.73360555151095...   \n",
       "1  530330001002  POLYGON ((-122.2897518162644 47.73373385941476...   \n",
       "2  530330001003  POLYGON ((-122.2895587836067 47.72644986052015...   \n",
       "3  530330001004  POLYGON ((-122.2924338167398 47.73375285274882...   \n",
       "4  530330001005  POLYGON ((-122.2922647847798 47.72647585486412...   \n",
       "\n",
       "          Name  \n",
       "0  Block Group  \n",
       "1  Block Group  \n",
       "2  Block Group  \n",
       "3  Block Group  \n",
       "4  Block Group  "
      ]
     },
     "execution_count": 125,
     "metadata": {},
     "output_type": "execute_result"
    }
   ],
   "source": [
    "blkgrp.head()"
   ]
  },
  {
   "cell_type": "code",
   "execution_count": 126,
   "metadata": {},
   "outputs": [],
   "source": [
    "#https://data.seattle.gov/dataset/Neighborhoods/2mbt-aqqx\n",
    "\n",
    "nbhd = gpd.read_file(os.path.join(DATADIR, \"Neighborhoods.shp\"))\n",
    "nbhd_short = nbhd.loc[:, ('S_HOOD', 'geometry')]\n",
    "nbhd_long = nbhd.loc[:, ('L_HOOD', 'geometry')]\n",
    "\n",
    "nbhd_short.rename(columns={nbhd_short.columns[0]: 'keys'}, inplace = True)\n",
    "nbhd_long.rename(columns={nbhd_long.columns[0]: 'keys'}, inplace = True)\n",
    "\n",
    "nbhd_short['Name'] = str('Neighborhood Short')\n",
    "nbhd_long['Name'] = str('Neighborhood Long')\n"
   ]
  },
  {
   "cell_type": "code",
   "execution_count": 127,
   "metadata": {},
   "outputs": [],
   "source": [
    "zipcode = gpd.read_file(os.path.join(DATADIR, \"zipcode.shp\"))\n",
    "zipcode = zipcode.loc[:, ('ZIPCODE','geometry')]\n",
    "zipcode = zipcode.to_crs({'init' :'epsg:4326'})\n",
    "zipcode.rename(columns={zipcode.columns[0]: 'keys'}, inplace = True)\n",
    "zipcode['Name'] = str('Zipcode')"
   ]
  },
  {
   "cell_type": "code",
   "execution_count": 128,
   "metadata": {},
   "outputs": [],
   "source": [
    "scc = gpd.read_file(os.path.join(DATADIR, \"sccdst.shp\"))\n",
    "scc = scc.loc[:, ('SCCDST','geometry')]\n",
    "scc = scc.to_crs({'init' :'epsg:4326'})\n",
    "scc.rename(columns={scc.columns[0]: 'keys'}, inplace = True)\n",
    "scc['Name'] = str('Council District')"
   ]
  },
  {
   "cell_type": "code",
   "execution_count": 129,
   "metadata": {},
   "outputs": [],
   "source": [
    "urbanvillage = gpd.read_file(os.path.join(DATADIR, \"DPD_uvmfg_polygon.shp\"))\n",
    "urbanvillage = urbanvillage.loc[:, ('UV_NAME','geometry')]\n",
    "urbanvillage.rename(columns={urbanvillage.columns[0]: 'keys'}, inplace = True)\n",
    "urbanvillage['Name'] = str('Urban Village')"
   ]
  },
  {
   "cell_type": "code",
   "execution_count": 130,
   "metadata": {},
   "outputs": [],
   "source": [
    "reference = pd.concat([blkgrp, nbhd_short, nbhd_long, zipcode, scc, urbanvillage])"
   ]
  },
  {
   "cell_type": "code",
   "execution_count": 179,
   "metadata": {},
   "outputs": [],
   "source": [
    "def geocode(inputfile):\n",
    "    \n",
    "    data = pd.read_csv(inputfile)\n",
    "    \n",
    "    data['geometry'] = data.apply(lambda x: Point((float(x[1]), float(x[0]))), axis=1)\n",
    "    data = gpd.GeoDataFrame(data, geometry='geometry')\n",
    "    data.crs = {'init' :'epsg:4326'}\n",
    "    \n",
    "    #reference = pd.read_csv(referencefile)\n",
    "    #reference = gpd.GeoDataFrame(referece(reference, geometry='geometry')\n",
    "    #reference.crs = {'init' :'epsg:4326'}\n",
    "                                 \n",
    "    df = gpd.sjoin(data, reference, how = 'inner')\n",
    "    df = df.drop(columns = ['index_right'])\n",
    "    df = df.sort_values(by='Name')\n",
    "    #df = df.drop(columns = ['Index'])\n",
    "    df = pd.DataFrame(df)\n",
    "    df = df.pivot(columns='Name', values='keys', index ='lat')\n",
    "    #df.pivot_table(df, index=['lon', 'lat'], columns='Index', values='keys')\n",
    "\n",
    "    #df = df.transpose()\n",
    "    \n",
    "    #df.loc[-2] = lat\n",
    "    #df.loc[-1] = long\n",
    "    #df.sort_index(inplace=True) \n",
    "    \n",
    "    labels = pd.DataFrame(columns =['Latitude', 'Longitude', 'Block Group', 'Neighborhood_short', 'Neighborhood_long', 'Zip Code', 'Council District',  'UrbanVillage'])\n",
    "    \n",
    "   # labels.loc[1] = df['keys'].tolist()\n",
    "    \n",
    "    return (df)"
   ]
  },
  {
   "cell_type": "code",
   "execution_count": 180,
   "metadata": {
    "scrolled": true
   },
   "outputs": [
    {
     "data": {
      "text/html": [
       "<div>\n",
       "<style scoped>\n",
       "    .dataframe tbody tr th:only-of-type {\n",
       "        vertical-align: middle;\n",
       "    }\n",
       "\n",
       "    .dataframe tbody tr th {\n",
       "        vertical-align: top;\n",
       "    }\n",
       "\n",
       "    .dataframe thead th {\n",
       "        text-align: right;\n",
       "    }\n",
       "</style>\n",
       "<table border=\"1\" class=\"dataframe\">\n",
       "  <thead>\n",
       "    <tr style=\"text-align: right;\">\n",
       "      <th>Name</th>\n",
       "      <th>Block Group</th>\n",
       "      <th>Council District</th>\n",
       "      <th>Neighborhood Long</th>\n",
       "      <th>Neighborhood Short</th>\n",
       "      <th>Urban Village</th>\n",
       "      <th>Zipcode</th>\n",
       "    </tr>\n",
       "    <tr>\n",
       "      <th>lat</th>\n",
       "      <th></th>\n",
       "      <th></th>\n",
       "      <th></th>\n",
       "      <th></th>\n",
       "      <th></th>\n",
       "      <th></th>\n",
       "    </tr>\n",
       "  </thead>\n",
       "  <tbody>\n",
       "    <tr>\n",
       "      <th>47.650955</th>\n",
       "      <td>530330049002</td>\n",
       "      <td>SCC4</td>\n",
       "      <td>NO BROADER TERM</td>\n",
       "      <td>Fremont</td>\n",
       "      <td>Fremont</td>\n",
       "      <td>98103</td>\n",
       "    </tr>\n",
       "    <tr>\n",
       "      <th>47.667870</th>\n",
       "      <td>530330047004</td>\n",
       "      <td>SCC6</td>\n",
       "      <td>BALLARD</td>\n",
       "      <td>Adams</td>\n",
       "      <td>Ballard</td>\n",
       "      <td>98107</td>\n",
       "    </tr>\n",
       "  </tbody>\n",
       "</table>\n",
       "</div>"
      ],
      "text/plain": [
       "Name        Block Group Council District Neighborhood Long Neighborhood Short  \\\n",
       "lat                                                                             \n",
       "47.650955  530330049002             SCC4   NO BROADER TERM            Fremont   \n",
       "47.667870  530330047004             SCC6           BALLARD              Adams   \n",
       "\n",
       "Name      Urban Village Zipcode  \n",
       "lat                              \n",
       "47.650955       Fremont   98103  \n",
       "47.667870       Ballard   98107  "
      ]
     },
     "execution_count": 180,
     "metadata": {},
     "output_type": "execute_result"
    }
   ],
   "source": [
    "\n",
    "geocode('/Users/hyeonjeongkim/Desktop/test.csv')\n",
    "\n"
   ]
  },
  {
   "cell_type": "markdown",
   "metadata": {},
   "source": [
    "##### full.tail()"
   ]
  },
  {
   "cell_type": "code",
   "execution_count": null,
   "metadata": {},
   "outputs": [],
   "source": []
  },
  {
   "cell_type": "code",
   "execution_count": null,
   "metadata": {},
   "outputs": [],
   "source": []
  },
  {
   "cell_type": "code",
   "execution_count": 15,
   "metadata": {},
   "outputs": [
    {
     "name": "stdout",
     "output_type": "stream",
     "text": [
      "..\\data/processed/shapefiles/SeattleCensusBlockGroups.shp\n"
     ]
    },
    {
     "data": {
      "text/plain": [
       "{'init': 'epsg:4326'}"
      ]
     },
     "execution_count": 15,
     "metadata": {},
     "output_type": "execute_result"
    }
   ],
   "source": [
    "FP = os.path.join(os.pardir, cn.GEN_SHAPEFILE_DIR, 'SeattleCensusBlockGroups.shp')\n",
    "df = gpd.read_file(FP)\n",
    "gdf = gpd.GeoDataFrame(df.loc[:, (cn.KEY, cn.GEOMETRY)],\n",
    "            crs=cn.CRS_EPSG, geometry=cn.GEOMETRY)\n",
    "# gdf.plot()"
   ]
  },
  {
   "cell_type": "code",
   "execution_count": 7,
   "metadata": {},
   "outputs": [
    {
     "data": {
      "text/plain": [
       "['C:\\\\Users\\\\dariu\\\\DSSG\\\\SEAMO\\\\Seattle-Mobility-Index\\\\seamo/analysis',\n",
       " 'C:\\\\Users\\\\dariu\\\\DSSG\\\\SEAMO\\\\Seattle-Mobility-Index\\\\seamo/data',\n",
       " 'C:\\\\Users\\\\dariu\\\\DSSG\\\\SEAMO\\\\Seattle-Mobility-Index\\\\seamo/tests',\n",
       " 'C:\\\\Users\\\\dariu\\\\DSSG\\\\SEAMO\\\\Seattle-Mobility-Index\\\\seamo/preproc',\n",
       " 'C:\\\\Users\\\\dariu\\\\DSSG\\\\SEAMO\\\\Seattle-Mobility-Index\\\\seamo/support',\n",
       " 'C:\\\\Users\\\\dariu\\\\DSSG\\\\SEAMO\\\\Seattle-Mobility-Index\\\\seamo/core',\n",
       " 'C:\\\\Users\\\\dariu\\\\DSSG\\\\SEAMO\\\\Seattle-Mobility-Index\\\\seamo',\n",
       " '',\n",
       " 'C:\\\\Users\\\\dariu\\\\Anaconda3\\\\python35.zip',\n",
       " 'C:\\\\Users\\\\dariu\\\\Anaconda3\\\\DLLs',\n",
       " 'C:\\\\Users\\\\dariu\\\\Anaconda3\\\\lib',\n",
       " 'C:\\\\Users\\\\dariu\\\\Anaconda3',\n",
       " 'C:\\\\Users\\\\dariu\\\\Anaconda3\\\\lib\\\\site-packages',\n",
       " 'C:\\\\Users\\\\dariu\\\\Anaconda3\\\\lib\\\\site-packages\\\\flake8-2.5.1-py3.5.egg',\n",
       " 'C:\\\\Users\\\\dariu\\\\Anaconda3\\\\lib\\\\site-packages\\\\win32',\n",
       " 'C:\\\\Users\\\\dariu\\\\Anaconda3\\\\lib\\\\site-packages\\\\win32\\\\lib',\n",
       " 'C:\\\\Users\\\\dariu\\\\Anaconda3\\\\lib\\\\site-packages\\\\Pythonwin',\n",
       " 'C:\\\\Users\\\\dariu\\\\Anaconda3\\\\lib\\\\site-packages\\\\IPython\\\\extensions',\n",
       " 'C:\\\\Users\\\\dariu\\\\.ipython']"
      ]
     },
     "execution_count": 7,
     "metadata": {},
     "output_type": "execute_result"
    }
   ],
   "source": [
    "sys.path"
   ]
  },
  {
   "cell_type": "code",
   "execution_count": null,
   "metadata": {},
   "outputs": [],
   "source": []
  },
  {
   "cell_type": "code",
   "execution_count": null,
   "metadata": {},
   "outputs": [],
   "source": []
  },
  {
   "cell_type": "code",
   "execution_count": null,
   "metadata": {},
   "outputs": [],
   "source": []
  },
  {
   "cell_type": "code",
   "execution_count": null,
   "metadata": {},
   "outputs": [],
   "source": []
  }
 ],
 "metadata": {
  "kernelspec": {
   "display_name": "Python 3",
   "language": "python",
   "name": "python3"
  },
  "language_info": {
   "codemirror_mode": {
    "name": "ipython",
    "version": 3
   },
   "file_extension": ".py",
   "mimetype": "text/x-python",
   "name": "python",
   "nbconvert_exporter": "python",
   "pygments_lexer": "ipython3",
   "version": "3.5.5"
  }
 },
 "nbformat": 4,
 "nbformat_minor": 2
}
