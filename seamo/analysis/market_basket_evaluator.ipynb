{
 "cells": [
  {
   "cell_type": "code",
   "execution_count": 1,
   "metadata": {
    "collapsed": true
   },
   "outputs": [],
   "source": [
    "from datetime import datetime\n",
    "import itertools\n",
    "import json\n",
    "import math\n",
    "import os\n",
    "import time\n",
    "import string\n",
    "\n",
    "import geopandas as gpd\n",
    "import matplotlib.pyplot as plt\n",
    "import numpy as np\n",
    "import pandas as pd\n",
    "from pandas.io.json import json_normalize\n",
    "import shapely.wkt\n",
    "from sklearn.metrics import pairwise_distances\n",
    "from sklearn.metrics import mean_squared_error\n",
    "try:\n",
    "    from urllib.request import Request, urlopen  # Python 3\n",
    "except:\n",
    "    from urllib2 import Request, urlopen  # Python 2\n",
    "TEST_ORIGIN = '530330001003'\n",
    "CLASS_LIST = [\"urban village\", \"citywide\", \"destination park\", \"supermarket\", \"library\", \n",
    "              \"hospital\", \"pharmacy\", \"post_office\", \"school\", \"cafe\"]"
   ]
  },
  {
   "cell_type": "code",
   "execution_count": 2,
   "metadata": {
    "collapsed": true
   },
   "outputs": [],
   "source": [
    "def proximity_ratio(df_destinations):\n",
    "    \n",
    "    # proximity ratio = no. trips under 2 miles / no. trips between 2 and 10 miles; rows with zero denominators are removed\n",
    "    df_destinations['dist_under_2'] = np.where(df_destinations['distance'] < 2.0, 1, 0)\n",
    "    df_destinations['dist_2_to_10'] = np.where((df_destinations['distance'] >= 2.0) & (df_destinations['distance'] < 10.0), 1, 0)\n",
    "    df_blockgroup = df_destinations.groupby(['origin'], as_index=False).agg({'dist_under_2':sum,'dist_2_to_10':sum})\n",
    "    \n",
    "    df_blockgroup = df_blockgroup[df_blockgroup['dist_2_to_10'] != 0]   \n",
    "    df_blockgroup['proximity_ratio_test'] = df_blockgroup['dist_under_2'] / df_blockgroup['dist_2_to_10']\n",
    "    \n",
    "    return(df_blockgroup[['origin', 'proximity_ratio_test']])"
   ]
  },
  {
   "cell_type": "code",
   "execution_count": 3,
   "metadata": {
    "collapsed": true
   },
   "outputs": [],
   "source": [
    "def vert_hori_ratio(df_destinations, df_blockgroup):\n",
    "    \n",
    "    df_destinations['vertical_horizontal_ratio_test'] = pd.DataFrame(np.abs( (df_destinations['dest_lat'] - df_destinations['orig_lat']) / (df_destinations['dest_lng'] - df_destinations['orig_lng']) ))\n",
    "    df_blockgroup2 = df_destinations.groupby(['origin'], as_index=False)['vertical_horizontal_ratio_test'].mean()\n",
    "    result_merged = pd.merge(left=df_blockgroup, right=df_blockgroup2, how='inner', left_on='origin', right_on='origin')\n",
    "    \n",
    "    return(result_merged)"
   ]
  },
  {
   "cell_type": "code",
   "execution_count": 4,
   "metadata": {
    "collapsed": true
   },
   "outputs": [],
   "source": [
    "def average_distance(df_destinations, df_blockgroup):\n",
    "    \n",
    "    df_blockgroup2 = df_destinations.groupby(['origin'], as_index=False)['distance'].mean()\n",
    "    result_merged = pd.merge(left=df_blockgroup, right=df_blockgroup2, how='inner', left_on='origin', right_on='origin')\n",
    "    result_merged.rename(columns = {'distance': 'average_distance_test'}, inplace=True)\n",
    "    \n",
    "    return(result_merged)"
   ]
  },
  {
   "cell_type": "code",
   "execution_count": 5,
   "metadata": {},
   "outputs": [
    {
     "data": {
      "text/plain": [
       "\"\\nNext (Optional in case above three are not good enough) - Moran's I for x and y axes. \\nCreate weights by pairwise distance matrix for each blockgroup (inverse probability weighting by distance), \\nand calculate Moran's I using python package\\n\""
      ]
     },
     "execution_count": 5,
     "metadata": {},
     "output_type": "execute_result"
    }
   ],
   "source": [
    "\"\"\"\n",
    "Next (Optional in case above three are not good enough) - Moran's I for x and y axes. \n",
    "Create weights by pairwise distance matrix for each blockgroup (inverse probability weighting by distance), \n",
    "and calculate Moran's I using python package\n",
    "\"\"\""
   ]
  },
  {
   "cell_type": "code",
   "execution_count": 6,
   "metadata": {},
   "outputs": [
    {
     "data": {
      "text/plain": [
       "'\\nIf we have more time, we can try to compute spatial covariance matrix (might need to normalize the matrix)\\nand compare a. largest eigenvalues, b. traces, c. determinants.\\nHowever, there might be some issues with interpretation (meaning of the measures). \\nAlso we might need to parallelize the process as it is computationally expensive. \\n'"
      ]
     },
     "execution_count": 6,
     "metadata": {},
     "output_type": "execute_result"
    }
   ],
   "source": [
    "\"\"\"\n",
    "If we have more time, we can try to compute spatial covariance matrix (might need to normalize the matrix)\n",
    "and compare a. largest eigenvalues, b. traces, c. determinants.\n",
    "However, there might be some issues with interpretation (meaning of the measures). \n",
    "Also we might need to parallelize the process as it is computationally expensive. \n",
    "\"\"\""
   ]
  },
  {
   "cell_type": "code",
   "execution_count": 7,
   "metadata": {
    "collapsed": true
   },
   "outputs": [],
   "source": [
    "def prepare_psrc(psrc_raw):\n",
    "    \n",
    "    # this will compute three features using PSRC data; just need to run it once\n",
    "    psrc_blockgroup = proximity_ratio(psrc_raw)\n",
    "    with_vert_hori_ratio = vert_hori_ratio(psrc_raw, psrc_blockgroup)\n",
    "    with_average_distance = average_distance(psrc_raw, with_vert_hori_ratio)\n",
    "    \n",
    "    return (with_average_distance)    "
   ]
  },
  {
   "cell_type": "code",
   "execution_count": 8,
   "metadata": {
    "collapsed": true
   },
   "outputs": [],
   "source": [
    "def evaluate_features(google_input, psrc_input, basket_combination):\n",
    "    \n",
    "    \"\"\"\n",
    "    This is our main function to compare google API with PSRC data, \n",
    "    by comparing three features. \n",
    "    \n",
    "    Input: \n",
    "        1. google API data (each row represents one trip)\n",
    "        2. processed PSRC data (each row represents a blockgroup)\n",
    "        3. basket combination\n",
    "        \n",
    "    The output is a list of three MSEs. \n",
    "    \"\"\"\n",
    "    \n",
    "    \n",
    "    # Filter to match basket parameters based on rank (distance from destination)\n",
    "    for i in range(len(CLASS_LIST)):\n",
    "        filtered_data = google_input[(google_input['class'] != CLASS_LIST[i]) | (google_input['rank'] <= basket_combination[i])]\n",
    "    \n",
    "    # FEATURES: PROXIMITY RATIO, VERTICAL/HORIZONTAL TRAVEL DISTANCES, AVERAGE DISTANCE TO DESTINATION\n",
    "    \n",
    "    # Creating google results\n",
    "    with_proximity_ratio = proximity_ratio(filtered_data.copy())\n",
    "    with_vert_hori_ratio = vert_hori_ratio(filtered_data.copy(), with_proximity_ratio)\n",
    "    with_average_distance = average_distance(filtered_data, with_vert_hori_ratio)\n",
    "\n",
    "\n",
    "    # merge with proximity scores from PSRC\n",
    "    df_googleAPI = with_average_distance\n",
    "    #df_psrc = prepare_psrc(psrc_input)\n",
    "    df_psrc_reduced = psrc_input.loc[psrc_input['origin'].isin(df_googleAPI['origin'])]\n",
    "    \n",
    "    # evaluate MSEs and return value\n",
    "    proximity_ratio_mse = mean_squared_error(df_googleAPI['proximity_ratio_test'], df_psrc_reduced['proximity_ratio_test'])\n",
    "    vert_hori_ratio_mse = mean_squared_error(df_googleAPI['vertical_horizontal_ratio_test'], df_psrc_reduced['vertical_horizontal_ratio_test'])\n",
    "    average_distance_mse = mean_squared_error(df_googleAPI['average_distance_test'], df_psrc_reduced['average_distance_test'])\n",
    "\n",
    "    print(\"proximity ratio mse: \", proximity_ratio_mse)\n",
    "    print(\"vertical horizontal ratio mse: \", vert_hori_ratio_mse)\n",
    "    print(\"average distance mse: \", average_distance_mse)\n",
    "    result = [proximity_ratio_mse, vert_hori_ratio_mse, average_distance_mse]\n",
    "    # Don't forget to normalize the values in order to compare them!\n",
    "     \n",
    "    return (result)   "
   ]
  },
  {
   "cell_type": "code",
   "execution_count": 9,
   "metadata": {
    "collapsed": true
   },
   "outputs": [],
   "source": [
    "# Load PSRC data and pre-process; column names should be determined at a group meeting\n",
    "psrc_rawdat = pd.read_csv(\"psrc_data_final.csv\", dtype={'o_bg': str, 'd_bg': str})\n",
    "psrc_rawdat['origin'] = '530330' + psrc_rawdat['o_bg']\n",
    "psrc_rawdat['destination'] = '530330' + psrc_rawdat['d_bg']\n",
    "psrc_orig_pts = psrc_rawdat['o_bg_lat_long'].apply(shapely.wkt.loads)\n",
    "psrc_dest_pts = psrc_rawdat['d_bg_lat_long'].apply(shapely.wkt.loads)\n",
    "psrc_rawdat['orig_lng'] = pd.DataFrame([kk.x for kk in psrc_orig_pts])\n",
    "psrc_rawdat['orig_lat'] = pd.DataFrame([kk.y for kk in psrc_orig_pts])\n",
    "psrc_rawdat['dest_lng'] = pd.DataFrame([kk.x for kk in psrc_dest_pts])\n",
    "psrc_rawdat['dest_lat'] = pd.DataFrame([kk.y for kk in psrc_dest_pts])\n",
    "psrc_rawdat.drop(columns = ['o_bg', 'o_bg_lat_long', 'd_bg', 'd_bg_lat_long'], inplace=True)\n",
    "psrc_rawdat.rename(columns = {'trip_path_distance': 'distance', 'trip_weight_revised': 'weight'}, inplace=True)\n",
    "psrc_rawdat['distance'] = pd.to_numeric(psrc_rawdat['distance'], errors='coerce')"
   ]
  },
  {
   "cell_type": "code",
   "execution_count": 10,
   "metadata": {
    "collapsed": true
   },
   "outputs": [],
   "source": [
    "# Load Google API data \n",
    "# df_sample = pd.read_csv('Proximity_Ratio.csv', dtype={'bg_origin': str}) \n",
    "input_destinations = pd.read_csv('GoogleMatrix_Places_Dist.csv', dtype={'origin': str})\n",
    "input_destinations.rename(columns = {'lat': 'dest_lat', 'lng': 'dest_lng'}, inplace=True)"
   ]
  },
  {
   "cell_type": "code",
   "execution_count": 11,
   "metadata": {
    "collapsed": true
   },
   "outputs": [],
   "source": [
    "# Load blockgroup data with latitude and longitudes; will be merged with Google API\n",
    "blockgroup_mapping = pd.read_csv('SeattleCensusBlockGroups.csv', dtype={'tract_blkgrp': str})\n",
    "blockgroup_mapping['tract_blkgrp'] = '530330' + blockgroup_mapping['tract_blkgrp']\n",
    "orig_pts = blockgroup_mapping.centroid.apply(shapely.wkt.loads)\n",
    "blockgroup_mapping['orig_lng'] = pd.DataFrame([kk.x for kk in orig_pts])\n",
    "blockgroup_mapping['orig_lat'] = pd.DataFrame([kk.y for kk in orig_pts])\n",
    "origin_blockgroups = blockgroup_mapping [['tract_blkgrp', 'orig_lat', 'orig_lng']]"
   ]
  },
  {
   "cell_type": "code",
   "execution_count": 12,
   "metadata": {
    "collapsed": true
   },
   "outputs": [],
   "source": [
    "# origin_merged will be an input data for 'evaluate_features' function\n",
    "origin_merged = pd.merge(left=input_destinations, right=origin_blockgroups, how='left', left_on='origin', right_on='tract_blkgrp')\n",
    "origin_merged = origin_merged[['origin', 'dest_lat', 'orig_lat','dest_lng', 'orig_lng', 'rank', 'distance', 'class']]"
   ]
  },
  {
   "cell_type": "code",
   "execution_count": 13,
   "metadata": {},
   "outputs": [
    {
     "name": "stdout",
     "output_type": "stream",
     "text": [
      "proximity ratio mse:  0.823309313184\n",
      "vertical horizontal ratio mse:  248.891308226\n",
      "average distance mse:  0.987363131716\n"
     ]
    },
    {
     "data": {
      "text/plain": [
       "[0.82330931318383938, 248.89130822615772, 0.9873631317158188]"
      ]
     },
     "execution_count": 13,
     "metadata": {},
     "output_type": "execute_result"
    }
   ],
   "source": [
    "\"\"\"\n",
    "You can play around here!\n",
    "\"\"\"\n",
    "testArray = [3, 5, 2, 2, 2, 2, 3, 0, 1, 2]\n",
    "#testArray = [0, 8, 0, 0, 0, 0, 0, 0, 0, 3]\n",
    "df_psrc = prepare_psrc(psrc_rawdat)\n",
    "evaluate_features(origin_merged, df_psrc, testArray)"
   ]
  },
  {
   "cell_type": "code",
   "execution_count": null,
   "metadata": {
    "collapsed": true
   },
   "outputs": [],
   "source": []
  }
 ],
 "metadata": {
  "kernelspec": {
   "display_name": "Python 3",
   "language": "python",
   "name": "python3"
  },
  "language_info": {
   "codemirror_mode": {
    "name": "ipython",
    "version": 3
   },
   "file_extension": ".py",
   "mimetype": "text/x-python",
   "name": "python",
   "nbconvert_exporter": "python",
   "pygments_lexer": "ipython3",
   "version": "3.6.3"
  }
 },
 "nbformat": 4,
 "nbformat_minor": 2
}
