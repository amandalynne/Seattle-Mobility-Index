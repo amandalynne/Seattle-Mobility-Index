{
 "cells": [
  {
   "cell_type": "code",
   "execution_count": 3,
   "metadata": {
    "collapsed": true
   },
   "outputs": [],
   "source": [
    "from datetime import datetime\n",
    "import itertools\n",
    "import json\n",
    "import math\n",
    "import os\n",
    "import time\n",
    "import string\n",
    "\n",
    "import geopandas as gpd\n",
    "import matplotlib.pyplot as plt\n",
    "import numpy as np\n",
    "import pandas as pd\n",
    "from pandas.io.json import json_normalize\n",
    "import shapely.wkt\n",
    "from sklearn.metrics import pairwise_distances\n",
    "from sklearn.metrics import mean_squared_error\n",
    "try:\n",
    "    from urllib.request import Request, urlopen  # Python 3\n",
    "except:\n",
    "    from urllib2 import Request, urlopen  # Python 2\n",
    "TEST_ORIGIN = '530330001003'\n",
    "CLASS_LIST = [\"urban village\", \"citywide\", \"destination park\", \"supermarket\", \"library\", \n",
    "              \"hospital\", \"pharmacy\", \"post_office\", \"school\", \"cafe\"]\n",
    "BASKET_SIZE = 25\n",
    "# Parameter domains\n",
    "AA = [0,1,2,3,4] # urban village\n",
    "BB = [8,9,10,11,12,13] # citywide destination\n",
    "A = [0,1,2,3] # destination park\n",
    "B = [0,1,2,3] # supermarket\n",
    "C = [0,1,2,3] # library\n",
    "D = [0,1,2,3] # hospital\n",
    "E = [0,1,2,3] # pharmacy\n",
    "F = [0,1,2,3] # post office\n",
    "G = [0,1,2,3] # school\n",
    "H = [0,1,2,3] # cafe\n",
    "DEG_INTO_MILES = 69\n",
    "CITY_CENTER = [47.6062, -122.3321]"
   ]
  },
  {
   "cell_type": "code",
   "execution_count": 4,
   "metadata": {
    "collapsed": true
   },
   "outputs": [],
   "source": [
    "def proximity_ratio(df_destinations):\n",
    "    \n",
    "    # proximity ratio = no. trips under 2 miles / no. trips between 2 and 10 miles; rows with zero denominators are removed\n",
    "    df_destinations['dist_under_2'] = np.where(df_destinations['distance'] < 2.0, 1, 0)\n",
    "    df_destinations['dist_2_to_10'] = np.where((df_destinations['distance'] >= 2.0) & (df_destinations['distance'] < 10.0), 1, 0)\n",
    "    df_blockgroup = df_destinations.groupby(['origin'], as_index=False).agg({'dist_under_2':sum,'dist_2_to_10':sum})\n",
    "    \n",
    "    df_blockgroup = df_blockgroup[df_blockgroup['dist_2_to_10'] != 0]   \n",
    "    df_blockgroup['proximity_ratio_test'] = df_blockgroup['dist_under_2'] / df_blockgroup['dist_2_to_10']\n",
    "    \"\"\"\n",
    "    print((df_destinations.loc[df_destinations['origin'] == '530330048003']))\n",
    "    print((df_destinations.loc[df_destinations['origin'] == '530330049002']))\n",
    "    print((df_destinations.loc[df_destinations['origin'] == '530330049003']))    \n",
    "    \"\"\"\n",
    "    return(df_blockgroup[['origin', 'proximity_ratio_test']])\n",
    "    #return(df_blockgroup[['origin', 'proximity_ratio_test', 'dist_under_2', 'dist_2_to_10']])"
   ]
  },
  {
   "cell_type": "code",
   "execution_count": 5,
   "metadata": {
    "collapsed": true
   },
   "outputs": [],
   "source": [
    "def vert_hori_ratio(df_destinations, df_blockgroup):\n",
    "    \n",
    "    df_destinations['vertical_horizontal_ratio_test'] = pd.DataFrame(np.abs( (df_destinations['dest_lat'] - df_destinations['orig_lat']) / (df_destinations['dest_lon'] - df_destinations['orig_lon']) ))\n",
    "    df_blockgroup2 = df_destinations.groupby(['origin'], as_index=False)['vertical_horizontal_ratio_test'].mean()\n",
    "    result_merged = pd.merge(left=df_blockgroup, right=df_blockgroup2, how='inner', left_on='origin', right_on='origin')\n",
    "    \n",
    "    return(result_merged)"
   ]
  },
  {
   "cell_type": "code",
   "execution_count": 6,
   "metadata": {
    "collapsed": true
   },
   "outputs": [],
   "source": [
    "def average_distance(df_destinations, df_blockgroup):\n",
    "    \n",
    "    df_blockgroup2 = df_destinations.groupby(['origin'], as_index=False)['distance'].mean()\n",
    "    result_merged = pd.merge(left=df_blockgroup, right=df_blockgroup2, how='inner', left_on='origin', right_on='origin')\n",
    "    result_merged.rename(columns = {'distance': 'average_distance_test'}, inplace=True)\n",
    "    \n",
    "    return(result_merged)"
   ]
  },
  {
   "cell_type": "code",
   "execution_count": 7,
   "metadata": {},
   "outputs": [
    {
     "data": {
      "text/plain": [
       "\"paired = zip(df_destinations['dest_lat'],df_destinations['dest_lon'])\\ndf_destinations = origin_merged.copy()\\ndf_destinations.head()\\nnp.sqrt(\\n    ((df_destinations['dest_lat'] - CITY_CENTER[0]) * DEG_INTO_MILES)**2 + \\n    ((df_destinations['dest_lon'] - CITY_CENTER[1]) * DEG_INTO_MILES)**2\\n)\""
      ]
     },
     "execution_count": 7,
     "metadata": {},
     "output_type": "execute_result"
    }
   ],
   "source": [
    "\"\"\"paired = zip(df_destinations['dest_lat'],df_destinations['dest_lon'])\n",
    "df_destinations = origin_merged.copy()\n",
    "df_destinations.head()\n",
    "np.sqrt(\n",
    "    ((df_destinations['dest_lat'] - CITY_CENTER[0]) * DEG_INTO_MILES)**2 + \n",
    "    ((df_destinations['dest_lon'] - CITY_CENTER[1]) * DEG_INTO_MILES)**2\n",
    ")\"\"\""
   ]
  },
  {
   "cell_type": "code",
   "execution_count": 8,
   "metadata": {
    "collapsed": true
   },
   "outputs": [],
   "source": [
    "def distance_from_citycenter(df_destinations, df_blockgroup):\n",
    "   \n",
    "    df_destinations['distance_from_citycenter_val'] = pd.DataFrame(np.sqrt(\n",
    "                                                ((df_destinations['dest_lat'] - CITY_CENTER[0]) * DEG_INTO_MILES)**2 + \n",
    "                                                ((df_destinations['dest_lon'] - CITY_CENTER[1]) * DEG_INTO_MILES)**2\n",
    "                                                ))\n",
    "    \n",
    "    df_blockgroup2 = df_destinations.groupby(['origin'], as_index=False)['distance_from_citycenter_val'].mean()\n",
    "    result_merged = pd.merge(left=df_blockgroup, right=df_blockgroup2, how='inner', left_on='origin', right_on='origin')\n",
    "    result_merged.rename(columns = {'distance_from_citycenter_val': 'distance_from_citycenter_test'}, inplace=True)\n",
    "      \n",
    "    return(result_merged)"
   ]
  },
  {
   "cell_type": "code",
   "execution_count": 9,
   "metadata": {},
   "outputs": [
    {
     "data": {
      "text/plain": [
       "\"\\nNext (Optional in case above three are not good enough) - Moran's I for x and y axes. \\nCreate weights by pairwise distance matrix for each blockgroup (inverse probability weighting by distance), \\nand calculate Moran's I using python package\\n\""
      ]
     },
     "execution_count": 9,
     "metadata": {},
     "output_type": "execute_result"
    }
   ],
   "source": [
    "\"\"\"\n",
    "Next (Optional in case above three are not good enough) - Moran's I for x and y axes. \n",
    "Create weights by pairwise distance matrix for each blockgroup (inverse probability weighting by distance), \n",
    "and calculate Moran's I using python package\n",
    "\"\"\""
   ]
  },
  {
   "cell_type": "code",
   "execution_count": 10,
   "metadata": {},
   "outputs": [
    {
     "data": {
      "text/plain": [
       "'\\nIf we have more time, we can try to compute spatial covariance matrix (might need to normalize the matrix)\\nand compare a. largest eigenvalues, b. traces, c. determinants.\\nHowever, there might be some issues with interpretation (meaning of the measures). \\nAlso we might need to parallelize the process as it is computationally expensive. \\n'"
      ]
     },
     "execution_count": 10,
     "metadata": {},
     "output_type": "execute_result"
    }
   ],
   "source": [
    "\"\"\"\n",
    "If we have more time, we can try to compute spatial covariance matrix (might need to normalize the matrix)\n",
    "and compare a. largest eigenvalues, b. traces, c. determinants.\n",
    "However, there might be some issues with interpretation (meaning of the measures). \n",
    "Also we might need to parallelize the process as it is computationally expensive. \n",
    "\"\"\""
   ]
  },
  {
   "cell_type": "code",
   "execution_count": 11,
   "metadata": {
    "collapsed": true
   },
   "outputs": [],
   "source": [
    "def prepare_psrc(psrc_raw):\n",
    "        \n",
    "    # This will compute three features using PSRC data; just need to run it once\n",
    "    psrc_blockgroup = proximity_ratio(psrc_raw)\n",
    "    with_vert_hori_ratio = vert_hori_ratio(psrc_raw, psrc_blockgroup)\n",
    "    with_average_distance = average_distance(psrc_raw, with_vert_hori_ratio)\n",
    "    with_distance_from_citycenter = distance_from_citycenter(psrc_raw, with_average_distance)\n",
    "    \n",
    "    \"\"\"\n",
    "    # calculate weighted proximity ratio\n",
    "    psrc_raw['dist_under_2'] = np.where(psrc_raw['distance'] < 2.0, 1, 0)\n",
    "    psrc_raw['dist_2_to_10'] = np.where((psrc_raw['distance'] >= 2.0) & (psrc_raw['distance'] < 10.0), 1, 0)     \n",
    "    psrc_raw['weighted_under_2'] = psrc_raw['weight'] * psrc_raw['dist_under_2']\n",
    "    psrc_raw['weighted_2_to_10'] = psrc_raw['weight'] * psrc_raw['dist_2_to_10']    \n",
    "    df_blockgroup2 = psrc_raw.groupby(['origin'], as_index=False).agg({'weighted_under_2':sum,'weighted_2_to_10':sum})\n",
    "    df_blockgroup2['weighted_proximity_ratio'] = df_blockgroup2['weighted_under_2'] / df_blockgroup2['weighted_2_to_10']\n",
    "    \n",
    "    result_merged = pd.merge(left=with_distance_from_citycenter, right=df_blockgroup2, how='inner', left_on='origin', right_on='origin')\n",
    "    result_merged.dropna(inplace=True)\n",
    "    \"\"\"\n",
    "    result_merged = with_distance_from_citycenter\n",
    "    result_merged.sort_values(by=['origin'])\n",
    "    \n",
    "    return (result_merged)    "
   ]
  },
  {
   "cell_type": "code",
   "execution_count": 12,
   "metadata": {
    "collapsed": true
   },
   "outputs": [],
   "source": [
    "def calculate_features(google_input, basket_combination):\n",
    "    \n",
    "    # This calculates three features using google API data; need to run separately for each basket combination\n",
    "    \n",
    "    # Filter to match basket parameters based on rank (distance from destination)\n",
    "    filtered_data = google_input\n",
    "    for i in range(len(CLASS_LIST)):\n",
    "        filtered_data = filtered_data[(filtered_data['class'] != CLASS_LIST[i]) | (filtered_data['rank'] <= basket_combination[i])]\n",
    "   \n",
    "    # FEATURES: PROXIMITY RATIO, VERTICAL/HORIZONTAL TRAVEL DISTANCES, AVERAGE DISTANCE TO DESTINATION\n",
    "    \n",
    "    # Creating google results\n",
    "    with_proximity_ratio = proximity_ratio(filtered_data.copy())\n",
    "    with_vert_hori_ratio = vert_hori_ratio(filtered_data.copy(), with_proximity_ratio)\n",
    "    with_average_distance = average_distance(filtered_data.copy(), with_vert_hori_ratio)\n",
    "    with_distance_from_citycenter = distance_from_citycenter(filtered_data.copy(), with_average_distance)\n",
    "    \n",
    "    final_result = with_distance_from_citycenter.sort_values(by = ['origin'])\n",
    "    \n",
    "    return (final_result)"
   ]
  },
  {
   "cell_type": "code",
   "execution_count": 13,
   "metadata": {
    "collapsed": true
   },
   "outputs": [],
   "source": [
    "def draw_testplots(psrc_output, google_output):\n",
    "    \n",
    "    FEATURE_LIST = ['Proximity Ratio', 'Vertical/Horizontal', 'Average Distance', 'Distance From City Center']\n",
    "    \n",
    "    for i in range(4):\n",
    "        plt.scatter(psrc_output.iloc[:,i+1], google_output.iloc[:,i+1])\n",
    "        plt.xlabel('PSRC: ' + FEATURE_LIST[i], fontsize=15)\n",
    "        plt.ylabel('Google API:' + FEATURE_LIST[i], fontsize=15)\n",
    "        plt.xlim(min(psrc_output.iloc[:,i+1].min(), google_output.iloc[:,i+1].min()), \n",
    "                 max(psrc_output.iloc[:,i+1].max(), google_output.iloc[:,i+1].max())  * 1.1)\n",
    "        plt.ylim(min(psrc_output.iloc[:,i+1].min(), google_output.iloc[:,i+1].min()), \n",
    "                 max(psrc_output.iloc[:,i+1].max(), google_output.iloc[:,i+1].max())  * 1.1)   \n",
    "        plt.show()\n",
    "    \"\"\" \n",
    "    plt.scatter(psrc_output.iloc[:,6], google_output.iloc[:,1])\n",
    "    plt.xlabel('PSRC: Weighted Proximity Ratio', fontsize=15)\n",
    "    plt.ylabel('Google API: Proximity Ratio', fontsize=15)\n",
    "    plt.xlim(min(psrc_output.iloc[:,6].min(), google_output.iloc[:,1].min()), \n",
    "             max(psrc_output.iloc[:,6].max(), google_output.iloc[:,1].max()))\n",
    "    plt.ylim(min(psrc_output.iloc[:,6].min(), google_output.iloc[:,1].min()), \n",
    "             max(psrc_output.iloc[:,6].max(), google_output.iloc[:,1].max())) \n",
    "    plt.show()\n",
    "    \"\"\""
   ]
  },
  {
   "cell_type": "code",
   "execution_count": 14,
   "metadata": {},
   "outputs": [
    {
     "data": {
      "text/plain": [
       "\"print(df_google['distance_from_citycenter_test'].min(), df_google['distance_from_citycenter_test'].max())\\nprint(googled_psrc['distance_from_citycenter_test'].min(), googled_psrc['distance_from_citycenter_test'].max())\\n\\n#mean_squared_error(df_google['distance_from_citycenter_test'], googled_psrc['distance_from_citycenter_test'])\\n\\n#print(len(df_google['distance_from_citycenter_test'].dropna()))\\nlen(googled_psrc['distance_from_citycenter_test'].dropna())\\nlen(df_google.dropna())\\ndf_google.head()\""
      ]
     },
     "execution_count": 14,
     "metadata": {},
     "output_type": "execute_result"
    }
   ],
   "source": [
    "\"\"\"print(df_google['distance_from_citycenter_test'].min(), df_google['distance_from_citycenter_test'].max())\n",
    "print(googled_psrc['distance_from_citycenter_test'].min(), googled_psrc['distance_from_citycenter_test'].max())\n",
    "\n",
    "#mean_squared_error(df_google['distance_from_citycenter_test'], googled_psrc['distance_from_citycenter_test'])\n",
    "\n",
    "#print(len(df_google['distance_from_citycenter_test'].dropna()))\n",
    "len(googled_psrc['distance_from_citycenter_test'].dropna())\n",
    "len(df_google.dropna())\n",
    "df_google.head()\"\"\""
   ]
  },
  {
   "cell_type": "code",
   "execution_count": 15,
   "metadata": {},
   "outputs": [
    {
     "data": {
      "text/plain": [
       "\"df_google = calculate_features(origin_merged, testArray)\\ngoogled_psrc = df_psrc.loc[df_psrc['origin'].isin(df_google['origin'])]\\n#print(len(df_google), len(googled_psrc))\\n#print(googled_psrc)\\nprint(df_google)\\n#distance_from_citycenter_mse = mean_squared_error(df_google['distance_from_citycenter_test'], googled_psrc['distance_from_citycenter_test'])\\n\\n\\nproximity_ratio_mse = mean_squared_error(df_google['proximity_ratio_test'], googled_psrc['proximity_ratio_test'])\\nprint(len(df_google), len(googled_psrc))\\nvert_hori_ratio_mse = mean_squared_error(df_google['vertical_horizontal_ratio_test'], googled_psrc['vertical_horizontal_ratio_test'])\\nprint(len(df_google), len(googled_psrc))\\naverage_distance_mse = mean_squared_error(df_google['average_distance_test'], googled_psrc['average_distance_test'])\\nprint(len(df_google), len(googled_psrc))\\n\\n\\ndistance_from_citycenter_mse = mean_squared_error(df_google['distance_from_citycenter_test'], googled_psrc['distance_from_citycenter_test'])\\nprint(len(df_google), len(googled_psrc))\\n\""
      ]
     },
     "execution_count": 15,
     "metadata": {},
     "output_type": "execute_result"
    }
   ],
   "source": [
    "\"\"\"df_google = calculate_features(origin_merged, testArray)\n",
    "googled_psrc = df_psrc.loc[df_psrc['origin'].isin(df_google['origin'])]\n",
    "#print(len(df_google), len(googled_psrc))\n",
    "#print(googled_psrc)\n",
    "print(df_google)\n",
    "#distance_from_citycenter_mse = mean_squared_error(df_google['distance_from_citycenter_test'], googled_psrc['distance_from_citycenter_test'])\n",
    "\n",
    "\n",
    "proximity_ratio_mse = mean_squared_error(df_google['proximity_ratio_test'], googled_psrc['proximity_ratio_test'])\n",
    "print(len(df_google), len(googled_psrc))\n",
    "vert_hori_ratio_mse = mean_squared_error(df_google['vertical_horizontal_ratio_test'], googled_psrc['vertical_horizontal_ratio_test'])\n",
    "print(len(df_google), len(googled_psrc))\n",
    "average_distance_mse = mean_squared_error(df_google['average_distance_test'], googled_psrc['average_distance_test'])\n",
    "print(len(df_google), len(googled_psrc))\n",
    "\n",
    "\n",
    "distance_from_citycenter_mse = mean_squared_error(df_google['distance_from_citycenter_test'], googled_psrc['distance_from_citycenter_test'])\n",
    "print(len(df_google), len(googled_psrc))\n",
    "\"\"\""
   ]
  },
  {
   "cell_type": "code",
   "execution_count": 16,
   "metadata": {
    "collapsed": true
   },
   "outputs": [],
   "source": [
    "def calculate_mse(psrc_output, google_input):\n",
    "\n",
    "    score = []\n",
    "    combinations = []\n",
    "\n",
    "    for x in itertools.product(AA,BB,A,B,C,D,E,F,G,H):\n",
    "        if (sum(x) == BASKET_SIZE):\n",
    "            combinations.append(x)\n",
    "            df_google = calculate_features(google_input, list(x))\n",
    "            #df_google_result = df_google.sort_values(by=['origin'])\n",
    "            googled_psrc = psrc_output.loc[psrc_output['origin'].isin(df_google['origin'])]\n",
    "            #df_psrc_result = googled_psrc.sort_values(by=['origin'])\n",
    "            proximity_ratio_mse = mean_squared_error(df_google['proximity_ratio_test'], googled_psrc['proximity_ratio_test'])\n",
    "            vert_hori_ratio_mse = mean_squared_error(df_google['vertical_horizontal_ratio_test'], googled_psrc['vertical_horizontal_ratio_test'])\n",
    "            average_distance_mse = mean_squared_error(df_google['average_distance_test'], googled_psrc['average_distance_test'])\n",
    "            distance_from_citycenter_mse = mean_squared_error(df_google['distance_from_citycenter_test'], googled_psrc['distance_from_citycenter_test'])\n",
    "\n",
    "            mses = (proximity_ratio_mse, vert_hori_ratio_mse, average_distance_mse, distance_from_citycenter_mse)\n",
    "            #print(\"combination is :\", x)\n",
    "            score.append(mses)\n",
    "            if (len(combinations) % 5000 == 0):\n",
    "                print(\"Still Processing..\")\n",
    "                print(\"Idx+1 of combination is: \", len(combinations))\n",
    "\n",
    "    print(\"Total number of combinations: \" + str(len(combinations)))\n",
    "    print()\n",
    "    \n",
    "    final_mses = pd.DataFrame(score, columns = ['from_proximity_ratio', 'from_vert_hori_ratio', 'from_average_distance', 'from_distance_citycenter'])\n",
    "    final_mses['rank_from_proximity_ratio'] = final_mses['from_proximity_ratio'].rank(ascending=1)\n",
    "    final_mses['rank_from_vert_hori_ratio'] = final_mses['from_vert_hori_ratio'].rank(ascending=1)\n",
    "    final_mses['rank_from_average_distance'] = final_mses['from_average_distance'].rank(ascending=1)    \n",
    "    final_mses['rank_from_distance_citycenter'] = final_mses['from_distance_citycenter'].rank(ascending=1)    \n",
    "    \n",
    "    \n",
    "    final_combinations = pd.DataFrame(combinations, columns = CLASS_LIST)\n",
    "    #print(final_combinations)\n",
    "    \n",
    "    best_loc = final_mses['rank_from_average_distance'].idxmin()\n",
    "    print(\"Choose the following combination: \\n\")\n",
    "    \n",
    "    print(\"The index of the best basket is: \", best_loc)\n",
    "    print(final_combinations.loc[best_loc])\n",
    "    \n",
    "    return(final_combinations, final_mses)"
   ]
  },
  {
   "cell_type": "code",
   "execution_count": 17,
   "metadata": {},
   "outputs": [
    {
     "data": {
      "text/html": [
       "<div>\n",
       "<style scoped>\n",
       "    .dataframe tbody tr th:only-of-type {\n",
       "        vertical-align: middle;\n",
       "    }\n",
       "\n",
       "    .dataframe tbody tr th {\n",
       "        vertical-align: top;\n",
       "    }\n",
       "\n",
       "    .dataframe thead th {\n",
       "        text-align: right;\n",
       "    }\n",
       "</style>\n",
       "<table border=\"1\" class=\"dataframe\">\n",
       "  <thead>\n",
       "    <tr style=\"text-align: right;\">\n",
       "      <th></th>\n",
       "      <th>origin</th>\n",
       "      <th>orig_lon</th>\n",
       "      <th>orig_lat</th>\n",
       "      <th>distance</th>\n",
       "      <th>destination</th>\n",
       "      <th>weight</th>\n",
       "      <th>dest_lon</th>\n",
       "      <th>dest_lat</th>\n",
       "    </tr>\n",
       "  </thead>\n",
       "  <tbody>\n",
       "    <tr>\n",
       "      <th>0</th>\n",
       "      <td>530330069001</td>\n",
       "      <td>-122.364974</td>\n",
       "      <td>47.637175</td>\n",
       "      <td>1.262005</td>\n",
       "      <td>530330059001</td>\n",
       "      <td>24.399908</td>\n",
       "      <td>-122.369693</td>\n",
       "      <td>47.653826</td>\n",
       "    </tr>\n",
       "    <tr>\n",
       "      <th>1</th>\n",
       "      <td>530330069001</td>\n",
       "      <td>-122.364974</td>\n",
       "      <td>47.637175</td>\n",
       "      <td>1.262005</td>\n",
       "      <td>530330059001</td>\n",
       "      <td>24.399908</td>\n",
       "      <td>-122.369693</td>\n",
       "      <td>47.653826</td>\n",
       "    </tr>\n",
       "    <tr>\n",
       "      <th>2</th>\n",
       "      <td>530330058014</td>\n",
       "      <td>-122.384216</td>\n",
       "      <td>47.655931</td>\n",
       "      <td>1.610594</td>\n",
       "      <td>530330059001</td>\n",
       "      <td>21.082019</td>\n",
       "      <td>-122.369693</td>\n",
       "      <td>47.653826</td>\n",
       "    </tr>\n",
       "    <tr>\n",
       "      <th>3</th>\n",
       "      <td>530330042001</td>\n",
       "      <td>-122.273223</td>\n",
       "      <td>47.672711</td>\n",
       "      <td>5.031864</td>\n",
       "      <td>530330059001</td>\n",
       "      <td>0.000000</td>\n",
       "      <td>-122.369693</td>\n",
       "      <td>47.653826</td>\n",
       "    </tr>\n",
       "    <tr>\n",
       "      <th>4</th>\n",
       "      <td>530330040001</td>\n",
       "      <td>-122.257869</td>\n",
       "      <td>47.681074</td>\n",
       "      <td>9.480882</td>\n",
       "      <td>530330059001</td>\n",
       "      <td>0.000000</td>\n",
       "      <td>-122.369693</td>\n",
       "      <td>47.653826</td>\n",
       "    </tr>\n",
       "  </tbody>\n",
       "</table>\n",
       "</div>"
      ],
      "text/plain": [
       "         origin    orig_lon   orig_lat  distance   destination     weight  \\\n",
       "0  530330069001 -122.364974  47.637175  1.262005  530330059001  24.399908   \n",
       "1  530330069001 -122.364974  47.637175  1.262005  530330059001  24.399908   \n",
       "2  530330058014 -122.384216  47.655931  1.610594  530330059001  21.082019   \n",
       "3  530330042001 -122.273223  47.672711  5.031864  530330059001   0.000000   \n",
       "4  530330040001 -122.257869  47.681074  9.480882  530330059001   0.000000   \n",
       "\n",
       "     dest_lon   dest_lat  \n",
       "0 -122.369693  47.653826  \n",
       "1 -122.369693  47.653826  \n",
       "2 -122.369693  47.653826  \n",
       "3 -122.369693  47.653826  \n",
       "4 -122.369693  47.653826  "
      ]
     },
     "execution_count": 17,
     "metadata": {},
     "output_type": "execute_result"
    }
   ],
   "source": [
    "# Load PSRC data and pre-process; column names should be determined at a group meeting\n",
    "psrc_rawdat = pd.read_csv(\"PSRC_full_final_july3.csv\", dtype={'origin': str, 'destination': str})\n",
    "\"\"\"psrc_rawdat['origin'] = '530330' + psrc_rawdat['o_bg']\n",
    "psrc_rawdat['destination'] = '530330' + psrc_rawdat['d_bg']\n",
    "psrc_orig_pts = psrc_rawdat['o_bg_lat_long'].apply(shapely.wkt.loads)\n",
    "psrc_dest_pts = psrc_rawdat['d_bg_lat_long'].apply(shapely.wkt.loads)\n",
    "psrc_rawdat['orig_lng'] = pd.DataFrame([kk.x for kk in psrc_orig_pts])\n",
    "psrc_rawdat['orig_lat'] = pd.DataFrame([kk.y for kk in psrc_orig_pts])\n",
    "psrc_rawdat['dest_lng'] = pd.DataFrame([kk.x for kk in psrc_dest_pts])\n",
    "psrc_rawdat['dest_lat'] = pd.DataFrame([kk.y for kk in psrc_dest_pts])\n",
    "psrc_rawdat.drop(columns = ['o_bg', 'o_bg_lat_long', 'd_bg', 'd_bg_lat_long'], inplace=True)\n",
    "psrc_rawdat.rename(columns = {'trip_path_distance': 'distance', 'trip_weight_revised': 'weight'}, inplace=True)\"\"\"\n",
    "psrc_rawdat['distance'] = pd.to_numeric(psrc_rawdat['distance'], errors='coerce')\n",
    "psrc_rawdat.head()"
   ]
  },
  {
   "cell_type": "code",
   "execution_count": 18,
   "metadata": {
    "collapsed": true
   },
   "outputs": [],
   "source": [
    "# Load Google API data \n",
    "# df_sample = pd.read_csv('Proximity_Ratio.csv', dtype={'bg_origin': str}) \n",
    "input_destinations = pd.read_csv('GoogleMatrix_Places_Dist.csv', dtype={'origin': str})\n",
    "input_destinations.rename(columns = {'lat': 'dest_lat', 'lng': 'dest_lon', 'orig_lng': 'orig_lon'}, inplace=True)"
   ]
  },
  {
   "cell_type": "code",
   "execution_count": 19,
   "metadata": {
    "collapsed": true
   },
   "outputs": [],
   "source": [
    "# Load blockgroup data with latitude and longitudes; will be merged with Google API\n",
    "blockgroup_mapping = pd.read_csv('SeattleCensusBlockGroups.csv', dtype={'tract_blkgrp': str})\n",
    "blockgroup_mapping['tract_blkgrp'] = '530330' + blockgroup_mapping['tract_blkgrp']\n",
    "orig_pts = blockgroup_mapping.centroid.apply(shapely.wkt.loads)\n",
    "blockgroup_mapping['orig_lon'] = pd.DataFrame([kk.x for kk in orig_pts])\n",
    "blockgroup_mapping['orig_lat'] = pd.DataFrame([kk.y for kk in orig_pts])\n",
    "origin_blockgroups = blockgroup_mapping [['tract_blkgrp', 'orig_lat', 'orig_lon']]"
   ]
  },
  {
   "cell_type": "code",
   "execution_count": 20,
   "metadata": {
    "collapsed": true
   },
   "outputs": [],
   "source": [
    "# origin_merged will be an input data for 'evaluate_features' function\n",
    "origin_merged = pd.merge(left=input_destinations, right=origin_blockgroups, how='left', left_on='origin', right_on='tract_blkgrp')\n",
    "origin_merged = origin_merged[['origin', 'dest_lat', 'orig_lat','dest_lon', 'orig_lon', 'rank', 'distance', 'class']]"
   ]
  },
  {
   "cell_type": "code",
   "execution_count": 21,
   "metadata": {},
   "outputs": [
    {
     "data": {
      "text/html": [
       "<div>\n",
       "<style scoped>\n",
       "    .dataframe tbody tr th:only-of-type {\n",
       "        vertical-align: middle;\n",
       "    }\n",
       "\n",
       "    .dataframe tbody tr th {\n",
       "        vertical-align: top;\n",
       "    }\n",
       "\n",
       "    .dataframe thead th {\n",
       "        text-align: right;\n",
       "    }\n",
       "</style>\n",
       "<table border=\"1\" class=\"dataframe\">\n",
       "  <thead>\n",
       "    <tr style=\"text-align: right;\">\n",
       "      <th></th>\n",
       "      <th>origin</th>\n",
       "      <th>proximity_ratio_test</th>\n",
       "      <th>vertical_horizontal_ratio_test</th>\n",
       "      <th>average_distance_test</th>\n",
       "      <th>distance_from_citycenter_test</th>\n",
       "    </tr>\n",
       "  </thead>\n",
       "  <tbody>\n",
       "    <tr>\n",
       "      <th>0</th>\n",
       "      <td>530330001001</td>\n",
       "      <td>0.666667</td>\n",
       "      <td>3.736674</td>\n",
       "      <td>5.789315</td>\n",
       "      <td>5.247427</td>\n",
       "    </tr>\n",
       "    <tr>\n",
       "      <th>1</th>\n",
       "      <td>530330001002</td>\n",
       "      <td>0.833333</td>\n",
       "      <td>2.603185</td>\n",
       "      <td>4.872482</td>\n",
       "      <td>8.675117</td>\n",
       "    </tr>\n",
       "    <tr>\n",
       "      <th>2</th>\n",
       "      <td>530330001003</td>\n",
       "      <td>4.545455</td>\n",
       "      <td>1.282848</td>\n",
       "      <td>1.798165</td>\n",
       "      <td>7.414976</td>\n",
       "    </tr>\n",
       "    <tr>\n",
       "      <th>3</th>\n",
       "      <td>530330001004</td>\n",
       "      <td>0.000000</td>\n",
       "      <td>0.701157</td>\n",
       "      <td>5.967649</td>\n",
       "      <td>6.235458</td>\n",
       "    </tr>\n",
       "    <tr>\n",
       "      <th>4</th>\n",
       "      <td>530330001005</td>\n",
       "      <td>1.111111</td>\n",
       "      <td>11.532798</td>\n",
       "      <td>2.178774</td>\n",
       "      <td>7.127926</td>\n",
       "    </tr>\n",
       "  </tbody>\n",
       "</table>\n",
       "</div>"
      ],
      "text/plain": [
       "         origin  proximity_ratio_test  vertical_horizontal_ratio_test  \\\n",
       "0  530330001001              0.666667                        3.736674   \n",
       "1  530330001002              0.833333                        2.603185   \n",
       "2  530330001003              4.545455                        1.282848   \n",
       "3  530330001004              0.000000                        0.701157   \n",
       "4  530330001005              1.111111                       11.532798   \n",
       "\n",
       "   average_distance_test  distance_from_citycenter_test  \n",
       "0               5.789315                       5.247427  \n",
       "1               4.872482                       8.675117  \n",
       "2               1.798165                       7.414976  \n",
       "3               5.967649                       6.235458  \n",
       "4               2.178774                       7.127926  "
      ]
     },
     "execution_count": 21,
     "metadata": {},
     "output_type": "execute_result"
    }
   ],
   "source": [
    "# One-time computation of psrc: generate three features\n",
    "df_psrc = prepare_psrc(psrc_rawdat.copy())\n",
    "df_psrc.head()"
   ]
  },
  {
   "cell_type": "code",
   "execution_count": 22,
   "metadata": {
    "scrolled": false
   },
   "outputs": [
    {
     "data": {
      "text/plain": [
       "\"\\nfiltered_data = origin_merged\\nfor i in range(len(CLASS_LIST)):\\n    filtered_data = filtered_data[(filtered_data['class'] != CLASS_LIST[i]) | (filtered_data['rank'] <= testArray[i])]\\n \\ndd = proximity_ratio(filtered_data.copy())\\nprint(dd[10:40])\\n\""
      ]
     },
     "execution_count": 22,
     "metadata": {},
     "output_type": "execute_result"
    }
   ],
   "source": [
    "\"\"\"\n",
    "filtered_data = origin_merged\n",
    "for i in range(len(CLASS_LIST)):\n",
    "    filtered_data = filtered_data[(filtered_data['class'] != CLASS_LIST[i]) | (filtered_data['rank'] <= testArray[i])]\n",
    " \n",
    "dd = proximity_ratio(filtered_data.copy())\n",
    "print(dd[10:40])\n",
    "\"\"\""
   ]
  },
  {
   "cell_type": "code",
   "execution_count": 26,
   "metadata": {},
   "outputs": [
    {
     "data": {
      "image/png": "[encoded data removed]",
      "text/plain": [
       "<Figure size 432x288 with 1 Axes>"
      ]
     },
     "metadata": {},
     "output_type": "display_data"
    },
    {
     "data": {
      "image/png": "[encoded data removed]",
      "text/plain": [
       "<Figure size 432x288 with 1 Axes>"
      ]
     },
     "metadata": {},
     "output_type": "display_data"
    },
    {
     "data": {
      "image/png": "[encoded data removed]",
      "text/plain": [
       "<Figure size 432x288 with 1 Axes>"
      ]
     },
     "metadata": {},
     "output_type": "display_data"
    },
    {
     "data": {
      "image/png": "[encoded data removed]",
      "text/plain": [
       "<Figure size 432x288 with 1 Axes>"
      ]
     },
     "metadata": {},
     "output_type": "display_data"
    }
   ],
   "source": [
    "\"\"\"\n",
    "You can play around here!\n",
    "\"\"\"\n",
    "testArray = [3, 5, 2, 2, 2, 2, 3, 0, 1, 2]\n",
    "#testArray = [0, 8, 0, 0, 0, 0, 0, 0, 0, 3]\n",
    "\n",
    "testArray = [1, 10, 2, 1, 3, 2, 1, 2, 1, 3]\n",
    "df_google = calculate_features(origin_merged, testArray)\n",
    "googled_psrc = df_psrc.loc[df_psrc['origin'].isin(df_google['origin'])]\n",
    "draw_testplots(googled_psrc, df_google)\n",
    "\n",
    "#df_google.head()\n",
    "#googled_psrc.head()"
   ]
  },
  {
   "cell_type": "code",
   "execution_count": 27,
   "metadata": {},
   "outputs": [
    {
     "name": "stdout",
     "output_type": "stream",
     "text": [
      "1.73946951692 7.78979661178\n"
     ]
    },
    {
     "data": {
      "image/png": "[encoded data removed]",
      "text/plain": [
       "<Figure size 432x288 with 1 Axes>"
      ]
     },
     "metadata": {},
     "output_type": "display_data"
    }
   ],
   "source": [
    "print(googled_psrc['distance_from_citycenter_test'].min(),\n",
    "googled_psrc['distance_from_citycenter_test'].max())\n",
    "\n",
    "plt.scatter(googled_psrc['distance_from_citycenter_test'], df_google['distance_from_citycenter_test'])\n",
    "plt.show()"
   ]
  },
  {
   "cell_type": "code",
   "execution_count": 28,
   "metadata": {},
   "outputs": [
    {
     "data": {
      "text/plain": [
       "\"\\nplt.scatter(googled_psrc.iloc[:,7], df_google.iloc[:,1])\\nplt.xlabel('PSRC: Weighted Proximity Ratio', fontsize=15)\\nplt.ylabel('Google API: Proximity Ratio', fontsize=15)\\nplt.xlim(min(googled_psrc.iloc[:,7].min(), df_google.iloc[:,1].min()), \\n         max(googled_psrc.iloc[:,7].max(), df_google.iloc[:,1].max()))\\nplt.ylim(min(googled_psrc.iloc[:,7].min(), df_google.iloc[:,1].min()), \\n         max(googled_psrc.iloc[:,7].max(), df_google.iloc[:,1].max())) \\nplt.show()\\n\""
      ]
     },
     "execution_count": 28,
     "metadata": {},
     "output_type": "execute_result"
    }
   ],
   "source": [
    "\"\"\"\n",
    "plt.scatter(googled_psrc.iloc[:,7], df_google.iloc[:,1])\n",
    "plt.xlabel('PSRC: Weighted Proximity Ratio', fontsize=15)\n",
    "plt.ylabel('Google API: Proximity Ratio', fontsize=15)\n",
    "plt.xlim(min(googled_psrc.iloc[:,7].min(), df_google.iloc[:,1].min()), \n",
    "         max(googled_psrc.iloc[:,7].max(), df_google.iloc[:,1].max()))\n",
    "plt.ylim(min(googled_psrc.iloc[:,7].min(), df_google.iloc[:,1].min()), \n",
    "         max(googled_psrc.iloc[:,7].max(), df_google.iloc[:,1].max())) \n",
    "plt.show()\n",
    "\"\"\""
   ]
  },
  {
   "cell_type": "code",
   "execution_count": 29,
   "metadata": {},
   "outputs": [
    {
     "data": {
      "text/plain": [
       "\"plt.scatter(googled_psrc['proximity_ratio_test'], df_google['proximity_ratio_test'])\\nplt.xlim(0, 6)\\nplta.ylim(0, 6)\\nplt.show()\\n\""
      ]
     },
     "execution_count": 29,
     "metadata": {},
     "output_type": "execute_result"
    }
   ],
   "source": [
    "\"\"\"plt.scatter(googled_psrc['proximity_ratio_test'], df_google['proximity_ratio_test'])\n",
    "plt.xlim(0, 6)\n",
    "plta.ylim(0, 6)\n",
    "plt.show()\n",
    "\"\"\""
   ]
  },
  {
   "cell_type": "code",
   "execution_count": 30,
   "metadata": {},
   "outputs": [
    {
     "name": "stdout",
     "output_type": "stream",
     "text": [
      "Still Processing..\n",
      "Idx+1 of combination is:  5000\n",
      "Still Processing..\n",
      "Idx+1 of combination is:  10000\n",
      "Still Processing..\n",
      "Idx+1 of combination is:  15000\n",
      "Still Processing..\n",
      "Idx+1 of combination is:  20000\n",
      "Still Processing..\n",
      "Idx+1 of combination is:  25000\n",
      "Still Processing..\n",
      "Idx+1 of combination is:  30000\n",
      "Still Processing..\n",
      "Idx+1 of combination is:  35000\n",
      "Still Processing..\n",
      "Idx+1 of combination is:  40000\n",
      "Still Processing..\n",
      "Idx+1 of combination is:  45000\n",
      "Still Processing..\n",
      "Idx+1 of combination is:  50000\n",
      "Still Processing..\n",
      "Idx+1 of combination is:  55000\n",
      "Still Processing..\n",
      "Idx+1 of combination is:  60000\n",
      "Still Processing..\n",
      "Idx+1 of combination is:  65000\n",
      "Still Processing..\n",
      "Idx+1 of combination is:  70000\n",
      "Still Processing..\n",
      "Idx+1 of combination is:  75000\n",
      "Still Processing..\n",
      "Idx+1 of combination is:  80000\n",
      "Still Processing..\n",
      "Idx+1 of combination is:  85000\n",
      "Still Processing..\n",
      "Idx+1 of combination is:  90000\n",
      "Still Processing..\n",
      "Idx+1 of combination is:  95000\n",
      "Still Processing..\n",
      "Idx+1 of combination is:  100000\n",
      "Still Processing..\n",
      "Idx+1 of combination is:  105000\n",
      "Still Processing..\n",
      "Idx+1 of combination is:  110000\n",
      "Still Processing..\n",
      "Idx+1 of combination is:  115000\n",
      "Still Processing..\n",
      "Idx+1 of combination is:  120000\n",
      "Still Processing..\n",
      "Idx+1 of combination is:  125000\n",
      "Still Processing..\n",
      "Idx+1 of combination is:  130000\n",
      "Still Processing..\n",
      "Idx+1 of combination is:  135000\n",
      "Still Processing..\n",
      "Idx+1 of combination is:  140000\n",
      "Still Processing..\n",
      "Idx+1 of combination is:  145000\n",
      "Still Processing..\n",
      "Idx+1 of combination is:  150000\n",
      "Still Processing..\n",
      "Idx+1 of combination is:  155000\n",
      "Still Processing..\n",
      "Idx+1 of combination is:  160000\n",
      "Still Processing..\n",
      "Idx+1 of combination is:  165000\n",
      "Still Processing..\n",
      "Idx+1 of combination is:  170000\n",
      "Still Processing..\n",
      "Idx+1 of combination is:  175000\n",
      "Still Processing..\n",
      "Idx+1 of combination is:  180000\n",
      "Still Processing..\n",
      "Idx+1 of combination is:  185000\n",
      "Still Processing..\n",
      "Idx+1 of combination is:  190000\n",
      "Still Processing..\n",
      "Idx+1 of combination is:  195000\n",
      "Total number of combinations: 197689\n",
      "\n",
      "Choose the following combination: \n",
      "\n",
      "The index of the best basket is:  33296\n",
      "urban village        0\n",
      "citywide            13\n",
      "destination park     3\n",
      "supermarket          1\n",
      "library              3\n",
      "hospital             0\n",
      "pharmacy             1\n",
      "post_office          1\n",
      "school               3\n",
      "cafe                 0\n",
      "Name: 33296, dtype: int64\n"
     ]
    }
   ],
   "source": [
    "comb, res = calculate_mse(df_psrc, origin_merged.copy())\n",
    "#res\n",
    "comb.head()\n",
    "res.head()\n",
    "\n",
    "res.to_csv('Result/mses.csv')\n",
    "comb.to_csv('Result/comb.csv')"
   ]
  },
  {
   "cell_type": "code",
   "execution_count": 32,
   "metadata": {},
   "outputs": [
    {
     "data": {
      "text/html": [
       "<div>\n",
       "<style scoped>\n",
       "    .dataframe tbody tr th:only-of-type {\n",
       "        vertical-align: middle;\n",
       "    }\n",
       "\n",
       "    .dataframe tbody tr th {\n",
       "        vertical-align: top;\n",
       "    }\n",
       "\n",
       "    .dataframe thead th {\n",
       "        text-align: right;\n",
       "    }\n",
       "</style>\n",
       "<table border=\"1\" class=\"dataframe\">\n",
       "  <thead>\n",
       "    <tr style=\"text-align: right;\">\n",
       "      <th></th>\n",
       "      <th>from_proximity_ratio</th>\n",
       "      <th>from_vert_hori_ratio</th>\n",
       "      <th>from_average_distance</th>\n",
       "      <th>from_distance_citycenter</th>\n",
       "      <th>rank_from_proximity_ratio</th>\n",
       "      <th>rank_from_vert_hori_ratio</th>\n",
       "      <th>rank_from_average_distance</th>\n",
       "      <th>rank_from_distance_citycenter</th>\n",
       "    </tr>\n",
       "  </thead>\n",
       "  <tbody>\n",
       "    <tr>\n",
       "      <th>0</th>\n",
       "      <td>24.663486</td>\n",
       "      <td>288.912236</td>\n",
       "      <td>3.899003</td>\n",
       "      <td>2.127898</td>\n",
       "      <td>196506.0</td>\n",
       "      <td>124380.0</td>\n",
       "      <td>194200.0</td>\n",
       "      <td>184445.0</td>\n",
       "    </tr>\n",
       "    <tr>\n",
       "      <th>1</th>\n",
       "      <td>18.192179</td>\n",
       "      <td>290.007749</td>\n",
       "      <td>3.786381</td>\n",
       "      <td>2.062386</td>\n",
       "      <td>193736.0</td>\n",
       "      <td>135980.0</td>\n",
       "      <td>192023.0</td>\n",
       "      <td>152008.0</td>\n",
       "    </tr>\n",
       "    <tr>\n",
       "      <th>2</th>\n",
       "      <td>18.104726</td>\n",
       "      <td>288.997808</td>\n",
       "      <td>3.735689</td>\n",
       "      <td>2.084667</td>\n",
       "      <td>193690.0</td>\n",
       "      <td>125344.0</td>\n",
       "      <td>190915.0</td>\n",
       "      <td>166653.0</td>\n",
       "    </tr>\n",
       "    <tr>\n",
       "      <th>3</th>\n",
       "      <td>18.132287</td>\n",
       "      <td>289.218850</td>\n",
       "      <td>3.887547</td>\n",
       "      <td>2.016753</td>\n",
       "      <td>193704.0</td>\n",
       "      <td>127852.0</td>\n",
       "      <td>193989.0</td>\n",
       "      <td>110740.0</td>\n",
       "    </tr>\n",
       "    <tr>\n",
       "      <th>4</th>\n",
       "      <td>17.849943</td>\n",
       "      <td>290.518462</td>\n",
       "      <td>3.773708</td>\n",
       "      <td>2.106905</td>\n",
       "      <td>193664.0</td>\n",
       "      <td>141099.0</td>\n",
       "      <td>191760.0</td>\n",
       "      <td>177266.0</td>\n",
       "    </tr>\n",
       "  </tbody>\n",
       "</table>\n",
       "</div>"
      ],
      "text/plain": [
       "   from_proximity_ratio  from_vert_hori_ratio  from_average_distance  \\\n",
       "0             24.663486            288.912236               3.899003   \n",
       "1             18.192179            290.007749               3.786381   \n",
       "2             18.104726            288.997808               3.735689   \n",
       "3             18.132287            289.218850               3.887547   \n",
       "4             17.849943            290.518462               3.773708   \n",
       "\n",
       "   from_distance_citycenter  rank_from_proximity_ratio  \\\n",
       "0                  2.127898                   196506.0   \n",
       "1                  2.062386                   193736.0   \n",
       "2                  2.084667                   193690.0   \n",
       "3                  2.016753                   193704.0   \n",
       "4                  2.106905                   193664.0   \n",
       "\n",
       "   rank_from_vert_hori_ratio  rank_from_average_distance  \\\n",
       "0                   124380.0                    194200.0   \n",
       "1                   135980.0                    192023.0   \n",
       "2                   125344.0                    190915.0   \n",
       "3                   127852.0                    193989.0   \n",
       "4                   141099.0                    191760.0   \n",
       "\n",
       "   rank_from_distance_citycenter  \n",
       "0                       184445.0  \n",
       "1                       152008.0  \n",
       "2                       166653.0  \n",
       "3                       110740.0  \n",
       "4                       177266.0  "
      ]
     },
     "execution_count": 32,
     "metadata": {},
     "output_type": "execute_result"
    }
   ],
   "source": [
    "res.head()"
   ]
  },
  {
   "cell_type": "code",
   "execution_count": null,
   "metadata": {
    "collapsed": true
   },
   "outputs": [],
   "source": []
  },
  {
   "cell_type": "code",
   "execution_count": null,
   "metadata": {
    "collapsed": true
   },
   "outputs": [],
   "source": []
  }
 ],
 "metadata": {
  "kernelspec": {
   "display_name": "Python 3",
   "language": "python",
   "name": "python3"
  },
  "language_info": {
   "codemirror_mode": {
    "name": "ipython",
    "version": 3
   },
   "file_extension": ".py",
   "mimetype": "text/x-python",
   "name": "python",
   "nbconvert_exporter": "python",
   "pygments_lexer": "ipython3",
   "version": "3.6.3"
  }
 },
 "nbformat": 4,
 "nbformat_minor": 2
}
