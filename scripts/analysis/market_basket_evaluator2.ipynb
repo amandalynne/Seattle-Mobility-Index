{
 "cells": [
  {
   "cell_type": "code",
   "execution_count": 2,
   "metadata": {
    "collapsed": true
   },
   "outputs": [],
   "source": [
    "from datetime import datetime\n",
    "import itertools\n",
    "import json\n",
    "import math\n",
    "import os\n",
    "import time\n",
    "import string\n",
    "\n",
    "import geopandas as gpd\n",
    "import matplotlib.pyplot as plt\n",
    "import numpy as np\n",
    "import pandas as pd\n",
    "from pandas.io.json import json_normalize\n",
    "import shapely.wkt\n",
    "from sklearn.metrics import pairwise_distances\n",
    "from sklearn.metrics import mean_squared_error\n",
    "try:\n",
    "    from urllib.request import Request, urlopen  # Python 3\n",
    "except:\n",
    "    from urllib2 import Request, urlopen  # Python 2\n",
    "TEST_ORIGIN = '530330001003'\n",
    "CLASS_LIST = [\"urban village\", \"citywide\", \"destination park\", \"supermarket\", \"library\", \n",
    "              \"hospital\", \"pharmacy\", \"post_office\", \"school\", \"cafe\"]\n",
    "BASKET_SIZE = 40\n",
    "# Parameter domains\n",
    "AA = [0,1,2,3,4] # urban village\n",
    "BB = [8,9,10,11,12,13] # citywide destination\n",
    "A = [0,1,2,3] # destination park\n",
    "B = [0,1,2,3] # supermarket\n",
    "C = [0,1,2,3] # library\n",
    "D = [0,1,2,3] # hospital\n",
    "E = [0,1,2,3] # pharmacy\n",
    "F = [0,1,2,3] # post office\n",
    "G = [0,1,2,3] # school\n",
    "H = [0,1,2,3] # cafe"
   ]
  },
  {
   "cell_type": "code",
   "execution_count": 3,
   "metadata": {
    "collapsed": true
   },
   "outputs": [],
   "source": [
    "def proximity_ratio(df_destinations):\n",
    "    \n",
    "    # proximity ratio = no. trips under 2 miles / no. trips between 2 and 10 miles; rows with zero denominators are removed\n",
    "    df_destinations['dist_under_2'] = np.where(df_destinations['distance'] < 2.0, 1, 0)\n",
    "    df_destinations['dist_2_to_10'] = np.where((df_destinations['distance'] >= 2.0) & (df_destinations['distance'] < 10.0), 1, 0)\n",
    "    df_blockgroup = df_destinations.groupby(['origin'], as_index=False).agg({'dist_under_2':sum,'dist_2_to_10':sum})\n",
    "    \n",
    "    df_blockgroup = df_blockgroup[df_blockgroup['dist_2_to_10'] != 0]   \n",
    "    df_blockgroup['proximity_ratio_test'] = df_blockgroup['dist_under_2'] / df_blockgroup['dist_2_to_10']\n",
    "    \n",
    "    return(df_blockgroup[['origin', 'proximity_ratio_test']])"
   ]
  },
  {
   "cell_type": "code",
   "execution_count": 4,
   "metadata": {
    "collapsed": true
   },
   "outputs": [],
   "source": [
    "def vert_hori_ratio(df_destinations, df_blockgroup):\n",
    "    \n",
    "    df_destinations['vertical_horizontal_ratio_test'] = pd.DataFrame(np.abs( (df_destinations['dest_lat'] - df_destinations['orig_lat']) / (df_destinations['dest_lng'] - df_destinations['orig_lng']) ))\n",
    "    df_blockgroup2 = df_destinations.groupby(['origin'], as_index=False)['vertical_horizontal_ratio_test'].mean()\n",
    "    result_merged = pd.merge(left=df_blockgroup, right=df_blockgroup2, how='inner', left_on='origin', right_on='origin')\n",
    "    \n",
    "    return(result_merged)"
   ]
  },
  {
   "cell_type": "code",
   "execution_count": 5,
   "metadata": {
    "collapsed": true
   },
   "outputs": [],
   "source": [
    "def average_distance(df_destinations, df_blockgroup):\n",
    "    \n",
    "    df_blockgroup2 = df_destinations.groupby(['origin'], as_index=False)['distance'].mean()\n",
    "    result_merged = pd.merge(left=df_blockgroup, right=df_blockgroup2, how='inner', left_on='origin', right_on='origin')\n",
    "    result_merged.rename(columns = {'distance': 'average_distance_test'}, inplace=True)\n",
    "    \n",
    "    return(result_merged)"
   ]
  },
  {
   "cell_type": "code",
   "execution_count": 6,
   "metadata": {},
   "outputs": [
    {
     "data": {
      "text/plain": [
       "\"\\nNext (Optional in case above three are not good enough) - Moran's I for x and y axes. \\nCreate weights by pairwise distance matrix for each blockgroup (inverse probability weighting by distance), \\nand calculate Moran's I using python package\\n\""
      ]
     },
     "execution_count": 6,
     "metadata": {},
     "output_type": "execute_result"
    }
   ],
   "source": [
    "\"\"\"\n",
    "Next (Optional in case above three are not good enough) - Moran's I for x and y axes. \n",
    "Create weights by pairwise distance matrix for each blockgroup (inverse probability weighting by distance), \n",
    "and calculate Moran's I using python package\n",
    "\"\"\""
   ]
  },
  {
   "cell_type": "code",
   "execution_count": 7,
   "metadata": {},
   "outputs": [
    {
     "data": {
      "text/plain": [
       "'\\nIf we have more time, we can try to compute spatial covariance matrix (might need to normalize the matrix)\\nand compare a. largest eigenvalues, b. traces, c. determinants.\\nHowever, there might be some issues with interpretation (meaning of the measures). \\nAlso we might need to parallelize the process as it is computationally expensive. \\n'"
      ]
     },
     "execution_count": 7,
     "metadata": {},
     "output_type": "execute_result"
    }
   ],
   "source": [
    "\"\"\"\n",
    "If we have more time, we can try to compute spatial covariance matrix (might need to normalize the matrix)\n",
    "and compare a. largest eigenvalues, b. traces, c. determinants.\n",
    "However, there might be some issues with interpretation (meaning of the measures). \n",
    "Also we might need to parallelize the process as it is computationally expensive. \n",
    "\"\"\""
   ]
  },
  {
   "cell_type": "code",
   "execution_count": 8,
   "metadata": {
    "collapsed": true
   },
   "outputs": [],
   "source": [
    "def prepare_psrc(psrc_raw):\n",
    "    \n",
    "    # This will compute three features using PSRC data; just need to run it once\n",
    "    psrc_blockgroup = proximity_ratio(psrc_raw)\n",
    "    with_vert_hori_ratio = vert_hori_ratio(psrc_raw, psrc_blockgroup)\n",
    "    with_average_distance = average_distance(psrc_raw, with_vert_hori_ratio)\n",
    "    \n",
    "    return (with_average_distance)    "
   ]
  },
  {
   "cell_type": "code",
   "execution_count": 28,
   "metadata": {
    "collapsed": true
   },
   "outputs": [],
   "source": [
    "def calculate_features(google_input, basket_combination):\n",
    "    \n",
    "    # This calculates three features using google API data; need to run separately for each basket combination\n",
    "    \n",
    "    # Filter to match basket parameters based on rank (distance from destination)\n",
    "    filtered_data = google_input\n",
    "    for i in range(len(CLASS_LIST)):\n",
    "        filtered_data = filtered_data[(filtered_data['class'] != CLASS_LIST[i]) | (filtered_data['rank'] <= basket_combination[i])]\n",
    "   \n",
    "    # FEATURES: PROXIMITY RATIO, VERTICAL/HORIZONTAL TRAVEL DISTANCES, AVERAGE DISTANCE TO DESTINATION\n",
    "    \n",
    "    # Creating google results\n",
    "    with_proximity_ratio = proximity_ratio(filtered_data.copy())\n",
    "    with_vert_hori_ratio = vert_hori_ratio(filtered_data.copy(), with_proximity_ratio)\n",
    "    with_average_distance = average_distance(filtered_data, with_vert_hori_ratio)\n",
    "    \n",
    "    return (with_average_distance)"
   ]
  },
  {
   "cell_type": "code",
   "execution_count": 10,
   "metadata": {
    "collapsed": true
   },
   "outputs": [],
   "source": [
    "def draw_testplots(psrc_output, google_output):\n",
    "    \n",
    "    FEATURE_LIST = ['Proximity Ratio', 'Vertical/Horizontal', 'Average Distance']\n",
    "    \n",
    "    for i in range(3):\n",
    "        plt.scatter(psrc_output.iloc[:,i+1], google_output.iloc[:,i+1])\n",
    "        plt.xlabel('PSRC: ' + FEATURE_LIST[i], fontsize=15)\n",
    "        plt.ylabel('Google API:' + FEATURE_LIST[i], fontsize=15)\n",
    "        plt.xlim(min(psrc_output.iloc[:,i+1].min(), google_output.iloc[:,i+1].min()), \n",
    "                 max(psrc_output.iloc[:,i+1].max(), google_output.iloc[:,i+1].max()))\n",
    "        plt.ylim(min(psrc_output.iloc[:,i+1].min(), google_output.iloc[:,i+1].min()), \n",
    "                 max(psrc_output.iloc[:,i+1].max(), google_output.iloc[:,i+1].max()))   \n",
    "        plt.show()"
   ]
  },
  {
   "cell_type": "code",
   "execution_count": 11,
   "metadata": {
    "collapsed": true
   },
   "outputs": [],
   "source": [
    "def calculate_mse(psrc_output, google_input):\n",
    "\n",
    "    score = []\n",
    "    combinations = []\n",
    "\n",
    "    for x in itertools.product(AA,BB,A,B,C,D,E,F,G,H):\n",
    "        if (sum(x) == BASKET_SIZE):\n",
    "            combinations.append(x)\n",
    "            df_google = calculate_features(google_input, list(x))\n",
    "            googled_psrc = psrc_output.loc[psrc_output['origin'].isin(df_google['origin'])]\n",
    "            proximity_ratio_mse = mean_squared_error(df_google['proximity_ratio_test'], googled_psrc['proximity_ratio_test'])\n",
    "            vert_hori_ratio_mse = mean_squared_error(df_google['vertical_horizontal_ratio_test'], googled_psrc['vertical_horizontal_ratio_test'])\n",
    "            average_distance_mse = mean_squared_error(df_google['average_distance_test'], googled_psrc['average_distance_test'])\n",
    "\n",
    "            mses = (proximity_ratio_mse, vert_hori_ratio_mse, average_distance_mse)\n",
    "            #print(\"combination is :\", x)\n",
    "            score.append(mses)\n",
    "\n",
    "    print (\"Total combinations: \" + str(len(combinations)))\n",
    "    return(score)"
   ]
  },
  {
   "cell_type": "code",
   "execution_count": null,
   "metadata": {
    "collapsed": true
   },
   "outputs": [],
   "source": []
  },
  {
   "cell_type": "code",
   "execution_count": 11,
   "metadata": {
    "collapsed": true
   },
   "outputs": [],
   "source": [
    "\"\"\"\n",
    "At this moment, we might not need evaluate_features function any more..\n",
    "\"\"\"\n",
    "def evaluate_features(google_input, psrc_input, basket_combination):\n",
    "    \n",
    "    \"\"\"\n",
    "    This is our main function to compare google API with PSRC data, \n",
    "    by comparing three features. \n",
    "    \n",
    "    Input: \n",
    "        1. google API data (each row represents one trip)\n",
    "        2. processed PSRC data (each row represents a blockgroup)\n",
    "        3. basket combination\n",
    "        \n",
    "    The output is a list of three MSEs. \n",
    "    \"\"\"\n",
    "    \n",
    "    \n",
    "    # Filter to match basket parameters based on rank (distance from destination)\n",
    "    filtered_data = google_input\n",
    "    for i in range(len(CLASS_LIST)):\n",
    "        filtered_data = filtered_data[(filtered_data['class'] != CLASS_LIST[i]) | (filtered_data['rank'] <= basket_combination[i])]\n",
    "    \n",
    "    # FEATURES: PROXIMITY RATIO, VERTICAL/HORIZONTAL TRAVEL DISTANCES, AVERAGE DISTANCE TO DESTINATION\n",
    "    \n",
    "    # Creating google results\n",
    "    with_proximity_ratio = proximity_ratio(filtered_data.copy())\n",
    "    with_vert_hori_ratio = vert_hori_ratio(filtered_data.copy(), with_proximity_ratio)\n",
    "    with_average_distance = average_distance(filtered_data, with_vert_hori_ratio)\n",
    "\n",
    "\n",
    "    # merge with proximity scores from PSRC\n",
    "    df_googleAPI = with_average_distance\n",
    "    #df_psrc = prepare_psrc(psrc_input)\n",
    "    df_psrc_reduced = psrc_input.loc[psrc_input['origin'].isin(df_googleAPI['origin'])]\n",
    "    \n",
    "    # evaluate MSEs and return value\n",
    "    proximity_ratio_mse = mean_squared_error(df_googleAPI['proximity_ratio_test'], df_psrc_reduced['proximity_ratio_test'])\n",
    "    vert_hori_ratio_mse = mean_squared_error(df_googleAPI['vertical_horizontal_ratio_test'], df_psrc_reduced['vertical_horizontal_ratio_test'])\n",
    "    average_distance_mse = mean_squared_error(df_googleAPI['average_distance_test'], df_psrc_reduced['average_distance_test'])\n",
    "\n",
    "    print(\"proximity ratio mse: \", proximity_ratio_mse)\n",
    "    print(\"vertical horizontal ratio mse: \", vert_hori_ratio_mse)\n",
    "    print(\"average distance mse: \", average_distance_mse)\n",
    "    result = [proximity_ratio_mse, vert_hori_ratio_mse, average_distance_mse]\n",
    "    # Don't forget to normalize the values in order to compare them!\n",
    "     \n",
    "    return (result)   "
   ]
  },
  {
   "cell_type": "code",
   "execution_count": 29,
   "metadata": {
    "collapsed": true
   },
   "outputs": [],
   "source": [
    "# Load PSRC data and pre-process; column names should be determined at a group meeting\n",
    "psrc_rawdat = pd.read_csv(\"psrc_data_final.csv\", dtype={'o_bg': str, 'd_bg': str})\n",
    "psrc_rawdat['origin'] = '530330' + psrc_rawdat['o_bg']\n",
    "psrc_rawdat['destination'] = '530330' + psrc_rawdat['d_bg']\n",
    "psrc_orig_pts = psrc_rawdat['o_bg_lat_long'].apply(shapely.wkt.loads)\n",
    "psrc_dest_pts = psrc_rawdat['d_bg_lat_long'].apply(shapely.wkt.loads)\n",
    "psrc_rawdat['orig_lng'] = pd.DataFrame([kk.x for kk in psrc_orig_pts])\n",
    "psrc_rawdat['orig_lat'] = pd.DataFrame([kk.y for kk in psrc_orig_pts])\n",
    "psrc_rawdat['dest_lng'] = pd.DataFrame([kk.x for kk in psrc_dest_pts])\n",
    "psrc_rawdat['dest_lat'] = pd.DataFrame([kk.y for kk in psrc_dest_pts])\n",
    "psrc_rawdat.drop(columns = ['o_bg', 'o_bg_lat_long', 'd_bg', 'd_bg_lat_long'], inplace=True)\n",
    "psrc_rawdat.rename(columns = {'trip_path_distance': 'distance', 'trip_weight_revised': 'weight'}, inplace=True)\n",
    "psrc_rawdat['distance'] = pd.to_numeric(psrc_rawdat['distance'], errors='coerce')"
   ]
  },
  {
   "cell_type": "code",
   "execution_count": 30,
   "metadata": {
    "collapsed": true
   },
   "outputs": [],
   "source": [
    "# Load Google API data \n",
    "# df_sample = pd.read_csv('Proximity_Ratio.csv', dtype={'bg_origin': str}) \n",
    "input_destinations = pd.read_csv('GoogleMatrix_Places_Dist.csv', dtype={'origin': str})\n",
    "input_destinations.rename(columns = {'lat': 'dest_lat', 'lng': 'dest_lng'}, inplace=True)"
   ]
  },
  {
   "cell_type": "code",
   "execution_count": 31,
   "metadata": {
    "collapsed": true
   },
   "outputs": [],
   "source": [
    "# Load blockgroup data with latitude and longitudes; will be merged with Google API\n",
    "blockgroup_mapping = pd.read_csv('SeattleCensusBlockGroups.csv', dtype={'tract_blkgrp': str})\n",
    "blockgroup_mapping['tract_blkgrp'] = '530330' + blockgroup_mapping['tract_blkgrp']\n",
    "orig_pts = blockgroup_mapping.centroid.apply(shapely.wkt.loads)\n",
    "blockgroup_mapping['orig_lng'] = pd.DataFrame([kk.x for kk in orig_pts])\n",
    "blockgroup_mapping['orig_lat'] = pd.DataFrame([kk.y for kk in orig_pts])\n",
    "origin_blockgroups = blockgroup_mapping [['tract_blkgrp', 'orig_lat', 'orig_lng']]"
   ]
  },
  {
   "cell_type": "code",
   "execution_count": 32,
   "metadata": {
    "collapsed": true
   },
   "outputs": [],
   "source": [
    "# origin_merged will be an input data for 'evaluate_features' function\n",
    "origin_merged = pd.merge(left=input_destinations, right=origin_blockgroups, how='left', left_on='origin', right_on='tract_blkgrp')\n",
    "origin_merged = origin_merged[['origin', 'dest_lat', 'orig_lat','dest_lng', 'orig_lng', 'rank', 'distance', 'class']]"
   ]
  },
  {
   "cell_type": "code",
   "execution_count": 33,
   "metadata": {
    "collapsed": true
   },
   "outputs": [],
   "source": [
    "# One-time computation of psrc: generate three features\n",
    "df_psrc = prepare_psrc(psrc_rawdat)"
   ]
  },
  {
   "cell_type": "code",
   "execution_count": 34,
   "metadata": {},
   "outputs": [
    {
     "data": {
      "image/png": "[encoded data removed]",
      "text/plain": [
       "<Figure size 432x288 with 1 Axes>"
      ]
     },
     "metadata": {},
     "output_type": "display_data"
    },
    {
     "data": {
      "image/png": "[encoded data removed]",
      "text/plain": [
       "<Figure size 432x288 with 1 Axes>"
      ]
     },
     "metadata": {},
     "output_type": "display_data"
    },
    {
     "data": {
      "image/png": "[encoded data removed]",
      "text/plain": [
       "<Figure size 432x288 with 1 Axes>"
      ]
     },
     "metadata": {},
     "output_type": "display_data"
    }
   ],
   "source": [
    "\"\"\"\n",
    "You can play around here!\n",
    "\"\"\"\n",
    "#testArray = [3, 5, 2, 2, 2, 2, 3, 0, 1, 2]\n",
    "testArray = [0, 8, 0, 0, 0, 0, 0, 0, 0, 3]\n",
    "df_google = calculate_features(origin_merged, testArray)\n",
    "googled_psrc = df_psrc.loc[df_psrc['origin'].isin(df_google['origin'])]\n",
    "draw_testplots(googled_psrc, df_google)"
   ]
  },
  {
   "cell_type": "code",
   "execution_count": 18,
   "metadata": {},
   "outputs": [
    {
     "data": {
      "text/plain": [
       "\"plt.scatter(googled_psrc['proximity_ratio_test'], df_google['proximity_ratio_test'])\\nplt.xlim(0, 6)\\nplta.ylim(0, 6)\\nplt.show()\\n\""
      ]
     },
     "execution_count": 18,
     "metadata": {},
     "output_type": "execute_result"
    }
   ],
   "source": [
    "\"\"\"plt.scatter(googled_psrc['proximity_ratio_test'], df_google['proximity_ratio_test'])\n",
    "plt.xlim(0, 6)\n",
    "plta.ylim(0, 6)\n",
    "plt.show()\n",
    "\"\"\""
   ]
  },
  {
   "cell_type": "code",
   "execution_count": 35,
   "metadata": {},
   "outputs": [
    {
     "name": "stdout",
     "output_type": "stream",
     "text": [
      "Total combinations: 10\n"
     ]
    },
    {
     "data": {
      "text/plain": [
       "[(0.92831001602169649, 150.51356526780901, 0.56153795207876422),\n",
       " (1.1879866302536732, 151.0959998994615, 0.63151922866236943),\n",
       " (1.1855658276286829, 150.71955168596983, 0.58960549195715772),\n",
       " (0.94437124615629742, 150.60749462433014, 0.56786872892227713),\n",
       " (0.99699404429355509, 150.48021396092469, 0.57317598414539195),\n",
       " (0.93858305500100447, 150.92485665520638, 0.5536702418884093),\n",
       " (0.94261302141470271, 150.30192461837291, 0.56362062306771321),\n",
       " (0.95538929074806256, 150.60740663996859, 0.56313945328906678),\n",
       " (0.94663720645912974, 150.39023261820358, 0.57243058749317755),\n",
       " (0.94258884829904865, 150.15683049075201, 0.55955939248092057)]"
      ]
     },
     "execution_count": 35,
     "metadata": {},
     "output_type": "execute_result"
    }
   ],
   "source": [
    "res = calculate_mse(df_psrc, origin_merged)\n",
    "res"
   ]
  },
  {
   "cell_type": "code",
   "execution_count": 21,
   "metadata": {},
   "outputs": [
    {
     "data": {
      "text/html": [
       "<div>\n",
       "<style scoped>\n",
       "    .dataframe tbody tr th:only-of-type {\n",
       "        vertical-align: middle;\n",
       "    }\n",
       "\n",
       "    .dataframe tbody tr th {\n",
       "        vertical-align: top;\n",
       "    }\n",
       "\n",
       "    .dataframe thead th {\n",
       "        text-align: right;\n",
       "    }\n",
       "</style>\n",
       "<table border=\"1\" class=\"dataframe\">\n",
       "  <thead>\n",
       "    <tr style=\"text-align: right;\">\n",
       "      <th></th>\n",
       "      <th>origin</th>\n",
       "      <th>proximity_ratio_test</th>\n",
       "      <th>vertical_horizontal_ratio_test</th>\n",
       "      <th>average_distance_test</th>\n",
       "    </tr>\n",
       "  </thead>\n",
       "  <tbody>\n",
       "    <tr>\n",
       "      <th>0</th>\n",
       "      <td>530330001001</td>\n",
       "      <td>0.666667</td>\n",
       "      <td>3.736674</td>\n",
       "      <td>5.789315</td>\n",
       "    </tr>\n",
       "    <tr>\n",
       "      <th>1</th>\n",
       "      <td>530330001002</td>\n",
       "      <td>1.666667</td>\n",
       "      <td>3.323772</td>\n",
       "      <td>3.868794</td>\n",
       "    </tr>\n",
       "    <tr>\n",
       "      <th>2</th>\n",
       "      <td>530330001003</td>\n",
       "      <td>4.545455</td>\n",
       "      <td>1.282848</td>\n",
       "      <td>1.798165</td>\n",
       "    </tr>\n",
       "    <tr>\n",
       "      <th>3</th>\n",
       "      <td>530330001004</td>\n",
       "      <td>0.000000</td>\n",
       "      <td>0.701157</td>\n",
       "      <td>5.967649</td>\n",
       "    </tr>\n",
       "    <tr>\n",
       "      <th>4</th>\n",
       "      <td>530330001005</td>\n",
       "      <td>1.200000</td>\n",
       "      <td>11.951093</td>\n",
       "      <td>2.122622</td>\n",
       "    </tr>\n",
       "  </tbody>\n",
       "</table>\n",
       "</div>"
      ],
      "text/plain": [
       "         origin  proximity_ratio_test  vertical_horizontal_ratio_test  \\\n",
       "0  530330001001              0.666667                        3.736674   \n",
       "1  530330001002              1.666667                        3.323772   \n",
       "2  530330001003              4.545455                        1.282848   \n",
       "3  530330001004              0.000000                        0.701157   \n",
       "4  530330001005              1.200000                       11.951093   \n",
       "\n",
       "   average_distance_test  \n",
       "0               5.789315  \n",
       "1               3.868794  \n",
       "2               1.798165  \n",
       "3               5.967649  \n",
       "4               2.122622  "
      ]
     },
     "execution_count": 21,
     "metadata": {},
     "output_type": "execute_result"
    }
   ],
   "source": [
    "origin_merged.head()\n",
    "df_psrc.head()"
   ]
  },
  {
   "cell_type": "code",
   "execution_count": 27,
   "metadata": {},
   "outputs": [
    {
     "data": {
      "text/plain": [
       "[[1, 3, 5], [2, 4, 6]]"
      ]
     },
     "execution_count": 27,
     "metadata": {},
     "output_type": "execute_result"
    }
   ],
   "source": [
    "k = [list(a) for a in zip(*[[1, 2], [3, 4], [5, 6]])]\n",
    "k"
   ]
  },
  {
   "cell_type": "code",
   "execution_count": 6,
   "metadata": {},
   "outputs": [
    {
     "data": {
      "text/plain": [
       "[(0, 1), (0, 2), (1, 1), (1, 2)]"
      ]
     },
     "execution_count": 6,
     "metadata": {},
     "output_type": "execute_result"
    }
   ],
   "source": [
    "dd = [0, 1]\n",
    "ee = [1, 2]\n",
    "list(itertools.product(dd, ee))"
   ]
  },
  {
   "cell_type": "code",
   "execution_count": null,
   "metadata": {
    "collapsed": true
   },
   "outputs": [],
   "source": []
  }
 ],
 "metadata": {
  "kernelspec": {
   "display_name": "Python 3",
   "language": "python",
   "name": "python3"
  },
  "language_info": {
   "codemirror_mode": {
    "name": "ipython",
    "version": 3
   },
   "file_extension": ".py",
   "mimetype": "text/x-python",
   "name": "python",
   "nbconvert_exporter": "python",
   "pygments_lexer": "ipython3",
   "version": "3.6.3"
  }
 },
 "nbformat": 4,
 "nbformat_minor": 2
}
