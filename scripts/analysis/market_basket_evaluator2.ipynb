{
 "cells": [
  {
   "cell_type": "code",
   "execution_count": 1,
   "metadata": {
    "collapsed": true
   },
   "outputs": [],
   "source": [
    "from datetime import datetime\n",
    "import itertools\n",
    "import json\n",
    "import math\n",
    "import os\n",
    "import time\n",
    "import string\n",
    "\n",
    "import geopandas as gpd\n",
    "import matplotlib.pyplot as plt\n",
    "import numpy as np\n",
    "import pandas as pd\n",
    "from pandas.io.json import json_normalize\n",
    "import shapely.wkt\n",
    "from sklearn.metrics import pairwise_distances\n",
    "from sklearn.metrics import mean_squared_error\n",
    "try:\n",
    "    from urllib.request import Request, urlopen  # Python 3\n",
    "except:\n",
    "    from urllib2 import Request, urlopen  # Python 2\n",
    "TEST_ORIGIN = '530330001003'\n",
    "CLASS_LIST = [\"urban village\", \"citywide\", \"destination park\", \"supermarket\", \"library\", \n",
    "              \"hospital\", \"pharmacy\", \"post_office\", \"school\", \"cafe\"]\n",
    "BASKET_SIZE = 40\n",
    "# Parameter domains\n",
    "AA = [0,1,2,3,4] # urban village\n",
    "BB = [8,9,10,11,12,13] # citywide destination\n",
    "A = [0,1,2,3] # destination park\n",
    "B = [0,1,2,3] # supermarket\n",
    "C = [0,1,2,3] # library\n",
    "D = [0,1,2,3] # hospital\n",
    "E = [0,1,2,3] # pharmacy\n",
    "F = [0,1,2,3] # post office\n",
    "G = [0,1,2,3] # school\n",
    "H = [0,1,2,3] # cafe"
   ]
  },
  {
   "cell_type": "code",
   "execution_count": 2,
   "metadata": {
    "collapsed": true
   },
   "outputs": [],
   "source": [
    "def proximity_ratio(df_destinations):\n",
    "    \n",
    "    # proximity ratio = no. trips under 2 miles / no. trips between 2 and 10 miles; rows with zero denominators are removed\n",
    "    df_destinations['dist_under_2'] = np.where(df_destinations['distance'] < 2.0, 1, 0)\n",
    "    df_destinations['dist_2_to_10'] = np.where((df_destinations['distance'] >= 2.0) & (df_destinations['distance'] < 10.0), 1, 0)\n",
    "    df_blockgroup = df_destinations.groupby(['origin'], as_index=False).agg({'dist_under_2':sum,'dist_2_to_10':sum})\n",
    "    \n",
    "    df_blockgroup = df_blockgroup[df_blockgroup['dist_2_to_10'] != 0]   \n",
    "    df_blockgroup['proximity_ratio_test'] = df_blockgroup['dist_under_2'] / df_blockgroup['dist_2_to_10']\n",
    "    \n",
    "    return(df_blockgroup[['origin', 'proximity_ratio_test']])"
   ]
  },
  {
   "cell_type": "code",
   "execution_count": 3,
   "metadata": {
    "collapsed": true
   },
   "outputs": [],
   "source": [
    "def vert_hori_ratio(df_destinations, df_blockgroup):\n",
    "    \n",
    "    df_destinations['vertical_horizontal_ratio_test'] = pd.DataFrame(np.abs( (df_destinations['dest_lat'] - df_destinations['orig_lat']) / (df_destinations['dest_lng'] - df_destinations['orig_lng']) ))\n",
    "    df_blockgroup2 = df_destinations.groupby(['origin'], as_index=False)['vertical_horizontal_ratio_test'].mean()\n",
    "    result_merged = pd.merge(left=df_blockgroup, right=df_blockgroup2, how='inner', left_on='origin', right_on='origin')\n",
    "    \n",
    "    return(result_merged)"
   ]
  },
  {
   "cell_type": "code",
   "execution_count": 4,
   "metadata": {
    "collapsed": true
   },
   "outputs": [],
   "source": [
    "def average_distance(df_destinations, df_blockgroup):\n",
    "    \n",
    "    df_blockgroup2 = df_destinations.groupby(['origin'], as_index=False)['distance'].mean()\n",
    "    result_merged = pd.merge(left=df_blockgroup, right=df_blockgroup2, how='inner', left_on='origin', right_on='origin')\n",
    "    result_merged.rename(columns = {'distance': 'average_distance_test'}, inplace=True)\n",
    "    \n",
    "    return(result_merged)"
   ]
  },
  {
   "cell_type": "code",
   "execution_count": 5,
   "metadata": {},
   "outputs": [
    {
     "data": {
      "text/plain": [
       "\"\\nNext (Optional in case above three are not good enough) - Moran's I for x and y axes. \\nCreate weights by pairwise distance matrix for each blockgroup (inverse probability weighting by distance), \\nand calculate Moran's I using python package\\n\""
      ]
     },
     "execution_count": 5,
     "metadata": {},
     "output_type": "execute_result"
    }
   ],
   "source": [
    "\"\"\"\n",
    "Next (Optional in case above three are not good enough) - Moran's I for x and y axes. \n",
    "Create weights by pairwise distance matrix for each blockgroup (inverse probability weighting by distance), \n",
    "and calculate Moran's I using python package\n",
    "\"\"\""
   ]
  },
  {
   "cell_type": "code",
   "execution_count": 6,
   "metadata": {},
   "outputs": [
    {
     "data": {
      "text/plain": [
       "'\\nIf we have more time, we can try to compute spatial covariance matrix (might need to normalize the matrix)\\nand compare a. largest eigenvalues, b. traces, c. determinants.\\nHowever, there might be some issues with interpretation (meaning of the measures). \\nAlso we might need to parallelize the process as it is computationally expensive. \\n'"
      ]
     },
     "execution_count": 6,
     "metadata": {},
     "output_type": "execute_result"
    }
   ],
   "source": [
    "\"\"\"\n",
    "If we have more time, we can try to compute spatial covariance matrix (might need to normalize the matrix)\n",
    "and compare a. largest eigenvalues, b. traces, c. determinants.\n",
    "However, there might be some issues with interpretation (meaning of the measures). \n",
    "Also we might need to parallelize the process as it is computationally expensive. \n",
    "\"\"\""
   ]
  },
  {
   "cell_type": "code",
   "execution_count": 7,
   "metadata": {
    "collapsed": true
   },
   "outputs": [],
   "source": [
    "def prepare_psrc(psrc_raw):\n",
    "        \n",
    "    # This will compute three features using PSRC data; just need to run it once\n",
    "    psrc_blockgroup = proximity_ratio(psrc_raw)\n",
    "    with_vert_hori_ratio = vert_hori_ratio(psrc_raw, psrc_blockgroup)\n",
    "    with_average_distance = average_distance(psrc_raw, with_vert_hori_ratio)\n",
    "    \n",
    "    # calculate weighted proximity ratio\n",
    "    psrc_raw['dist_under_2'] = np.where(psrc_raw['distance'] < 2.0, 1, 0)\n",
    "    psrc_raw['dist_2_to_10'] = np.where((psrc_raw['distance'] >= 2.0) & (psrc_raw['distance'] < 10.0), 1, 0)     \n",
    "    psrc_raw['weighted_under_2'] = psrc_raw['weight'] * psrc_raw['dist_under_2']\n",
    "    psrc_raw['weighted_2_to_10'] = psrc_raw['weight'] * psrc_raw['dist_2_to_10']    \n",
    "    \n",
    "    df_blockgroup2 = psrc_raw.groupby(['origin'], as_index=False).agg({'weighted_under_2':sum,'weighted_2_to_10':sum})\n",
    "    df_blockgroup2['weighted_proximity_ratio'] = df_blockgroup2['weighted_under_2'] / df_blockgroup2['weighted_2_to_10']\n",
    "\n",
    "    result_merged = pd.merge(left=with_average_distance, right=df_blockgroup2, how='inner', left_on='origin', right_on='origin')\n",
    "    result_merged.dropna(inplace=True)\n",
    "    result_merged.sort_values(by=['origin'])\n",
    "    \n",
    "    return (result_merged)    "
   ]
  },
  {
   "cell_type": "code",
   "execution_count": 8,
   "metadata": {
    "collapsed": true
   },
   "outputs": [],
   "source": [
    "def calculate_features(google_input, basket_combination):\n",
    "    \n",
    "    # This calculates three features using google API data; need to run separately for each basket combination\n",
    "    \n",
    "    # Filter to match basket parameters based on rank (distance from destination)\n",
    "    filtered_data = google_input\n",
    "    for i in range(len(CLASS_LIST)):\n",
    "        filtered_data = filtered_data[(filtered_data['class'] != CLASS_LIST[i]) | (filtered_data['rank'] <= basket_combination[i])]\n",
    "   \n",
    "    # FEATURES: PROXIMITY RATIO, VERTICAL/HORIZONTAL TRAVEL DISTANCES, AVERAGE DISTANCE TO DESTINATION\n",
    "    \n",
    "    # Creating google results\n",
    "    with_proximity_ratio = proximity_ratio(filtered_data.copy())\n",
    "    with_vert_hori_ratio = vert_hori_ratio(filtered_data.copy(), with_proximity_ratio)\n",
    "    with_average_distance = average_distance(filtered_data.copy(), with_vert_hori_ratio)\n",
    "    \n",
    "    final_result = with_average_distance.sort_values(by = ['origin'])\n",
    "    \n",
    "    return (final_result)"
   ]
  },
  {
   "cell_type": "code",
   "execution_count": 9,
   "metadata": {
    "collapsed": true
   },
   "outputs": [],
   "source": [
    "def draw_testplots(psrc_output, google_output):\n",
    "    \n",
    "    FEATURE_LIST = ['Proximity Ratio', 'Vertical/Horizontal', 'Average Distance']\n",
    "    \n",
    "    for i in range(3):\n",
    "        plt.scatter(psrc_output.iloc[:,i+1], google_output.iloc[:,i+1])\n",
    "        plt.xlabel('PSRC: ' + FEATURE_LIST[i], fontsize=15)\n",
    "        plt.ylabel('Google API:' + FEATURE_LIST[i], fontsize=15)\n",
    "        plt.xlim(min(psrc_output.iloc[:,i+1].min(), google_output.iloc[:,i+1].min()), \n",
    "                 max(psrc_output.iloc[:,i+1].max(), google_output.iloc[:,i+1].max()))\n",
    "        plt.ylim(min(psrc_output.iloc[:,i+1].min(), google_output.iloc[:,i+1].min()), \n",
    "                 max(psrc_output.iloc[:,i+1].max(), google_output.iloc[:,i+1].max()))   \n",
    "        plt.show()\n",
    "    \"\"\" \n",
    "    plt.scatter(psrc_output.iloc[:,6], google_output.iloc[:,1])\n",
    "    plt.xlabel('PSRC: Weighted Proximity Ratio', fontsize=15)\n",
    "    plt.ylabel('Google API: Proximity Ratio', fontsize=15)\n",
    "    plt.xlim(min(psrc_output.iloc[:,6].min(), google_output.iloc[:,1].min()), \n",
    "             max(psrc_output.iloc[:,6].max(), google_output.iloc[:,1].max()))\n",
    "    plt.ylim(min(psrc_output.iloc[:,6].min(), google_output.iloc[:,1].min()), \n",
    "             max(psrc_output.iloc[:,6].max(), google_output.iloc[:,1].max())) \n",
    "    plt.show()\n",
    "    \"\"\""
   ]
  },
  {
   "cell_type": "code",
   "execution_count": 10,
   "metadata": {
    "collapsed": true
   },
   "outputs": [],
   "source": [
    "def calculate_mse(psrc_output, google_input):\n",
    "\n",
    "    score = []\n",
    "    combinations = []\n",
    "\n",
    "    for x in itertools.product(AA,BB,A,B,C,D,E,F,G,H):\n",
    "        if (sum(x) == BASKET_SIZE):\n",
    "            combinations.append(x)\n",
    "            df_google = calculate_features(google_input, list(x))\n",
    "            #df_google_result = df_google.sort_values(by=['origin'])\n",
    "            googled_psrc = psrc_output.loc[psrc_output['origin'].isin(df_google['origin'])]\n",
    "            #df_psrc_result = googled_psrc.sort_values(by=['origin'])\n",
    "            proximity_ratio_mse = mean_squared_error(df_google['proximity_ratio_test'], googled_psrc['proximity_ratio_test'])\n",
    "            vert_hori_ratio_mse = mean_squared_error(df_google['vertical_horizontal_ratio_test'], googled_psrc['vertical_horizontal_ratio_test'])\n",
    "            average_distance_mse = mean_squared_error(df_google['average_distance_test'], googled_psrc['average_distance_test'])\n",
    "\n",
    "            mses = (proximity_ratio_mse, vert_hori_ratio_mse, average_distance_mse)\n",
    "            #print(\"combination is :\", x)\n",
    "            score.append(mses)\n",
    "\n",
    "    print(\"Total number of combinations: \" + str(len(combinations)))\n",
    "    print()\n",
    "    \n",
    "    final_mses = pd.DataFrame(score, columns = ['from_proximity_ratio', 'from_vert_hori_ratio', 'from_average_distance'])\n",
    "    final_mses['rank_from_average_distance'] = final_mses['from_average_distance'].rank(ascending=1)\n",
    "    \n",
    "    final_combinations = pd.DataFrame(combinations, columns = CLASS_LIST)\n",
    "    #print(final_combinations)\n",
    "    \n",
    "    best_loc = final_mses['rank_from_average_distance'].idxmin()\n",
    "    print(\"Choose the following combination: \\n\")\n",
    "    print(final_combinations.loc[best_loc])\n",
    "    \n",
    "    return(final_mses)"
   ]
  },
  {
   "cell_type": "code",
   "execution_count": null,
   "metadata": {
    "collapsed": true
   },
   "outputs": [],
   "source": []
  },
  {
   "cell_type": "code",
   "execution_count": 11,
   "metadata": {
    "collapsed": true
   },
   "outputs": [],
   "source": [
    "\"\"\"\n",
    "At this moment, we might not need evaluate_features function any more..\n",
    "\"\"\"\n",
    "def evaluate_features(google_input, psrc_input, basket_combination):\n",
    "    \n",
    "    \"\"\"\n",
    "    This is our main function to compare google API with PSRC data, \n",
    "    by comparing three features. \n",
    "    \n",
    "    Input: \n",
    "        1. google API data (each row represents one trip)\n",
    "        2. processed PSRC data (each row represents a blockgroup)\n",
    "        3. basket combination\n",
    "        \n",
    "    The output is a list of three MSEs. \n",
    "    \"\"\"\n",
    "    \n",
    "    \n",
    "    # Filter to match basket parameters based on rank (distance from destination)\n",
    "    filtered_data = google_input\n",
    "    for i in range(len(CLASS_LIST)):\n",
    "        filtered_data = filtered_data[(filtered_data['class'] != CLASS_LIST[i]) | (filtered_data['rank'] <= basket_combination[i])]\n",
    "    \n",
    "    # FEATURES: PROXIMITY RATIO, VERTICAL/HORIZONTAL TRAVEL DISTANCES, AVERAGE DISTANCE TO DESTINATION\n",
    "    \n",
    "    # Creating google results\n",
    "    with_proximity_ratio = proximity_ratio(filtered_data.copy())\n",
    "    with_vert_hori_ratio = vert_hori_ratio(filtered_data.copy(), with_proximity_ratio)\n",
    "    with_average_distance = average_distance(filtered_data, with_vert_hori_ratio)\n",
    "\n",
    "\n",
    "    # merge with proximity scores from PSRC\n",
    "    df_googleAPI = with_average_distance\n",
    "    #df_psrc = prepare_psrc(psrc_input)\n",
    "    df_psrc_reduced = psrc_input.loc[psrc_input['origin'].isin(df_googleAPI['origin'])]\n",
    "    \n",
    "    # evaluate MSEs and return value\n",
    "    proximity_ratio_mse = mean_squared_error(df_googleAPI['proximity_ratio_test'], df_psrc_reduced['proximity_ratio_test'])\n",
    "    vert_hori_ratio_mse = mean_squared_error(df_googleAPI['vertical_horizontal_ratio_test'], df_psrc_reduced['vertical_horizontal_ratio_test'])\n",
    "    average_distance_mse = mean_squared_error(df_googleAPI['average_distance_test'], df_psrc_reduced['average_distance_test'])\n",
    "\n",
    "    print(\"proximity ratio mse: \", proximity_ratio_mse)\n",
    "    print(\"vertical horizontal ratio mse: \", vert_hori_ratio_mse)\n",
    "    print(\"average distance mse: \", average_distance_mse)\n",
    "    result = [proximity_ratio_mse, vert_hori_ratio_mse, average_distance_mse]\n",
    "    # Don't forget to normalize the values in order to compare them!\n",
    "     \n",
    "    return (result)   "
   ]
  },
  {
   "cell_type": "code",
   "execution_count": 12,
   "metadata": {
    "collapsed": true
   },
   "outputs": [],
   "source": [
    "# Load PSRC data and pre-process; column names should be determined at a group meeting\n",
    "psrc_rawdat = pd.read_csv(\"psrc_data_final.csv\", dtype={'o_bg': str, 'd_bg': str})\n",
    "psrc_rawdat['origin'] = '530330' + psrc_rawdat['o_bg']\n",
    "psrc_rawdat['destination'] = '530330' + psrc_rawdat['d_bg']\n",
    "psrc_orig_pts = psrc_rawdat['o_bg_lat_long'].apply(shapely.wkt.loads)\n",
    "psrc_dest_pts = psrc_rawdat['d_bg_lat_long'].apply(shapely.wkt.loads)\n",
    "psrc_rawdat['orig_lng'] = pd.DataFrame([kk.x for kk in psrc_orig_pts])\n",
    "psrc_rawdat['orig_lat'] = pd.DataFrame([kk.y for kk in psrc_orig_pts])\n",
    "psrc_rawdat['dest_lng'] = pd.DataFrame([kk.x for kk in psrc_dest_pts])\n",
    "psrc_rawdat['dest_lat'] = pd.DataFrame([kk.y for kk in psrc_dest_pts])\n",
    "psrc_rawdat.drop(columns = ['o_bg', 'o_bg_lat_long', 'd_bg', 'd_bg_lat_long'], inplace=True)\n",
    "psrc_rawdat.rename(columns = {'trip_path_distance': 'distance', 'trip_weight_revised': 'weight'}, inplace=True)\n",
    "psrc_rawdat['distance'] = pd.to_numeric(psrc_rawdat['distance'], errors='coerce')"
   ]
  },
  {
   "cell_type": "code",
   "execution_count": 13,
   "metadata": {
    "collapsed": true
   },
   "outputs": [],
   "source": [
    "# Load Google API data \n",
    "# df_sample = pd.read_csv('Proximity_Ratio.csv', dtype={'bg_origin': str}) \n",
    "input_destinations = pd.read_csv('GoogleMatrix_Places_Dist.csv', dtype={'origin': str})\n",
    "input_destinations.rename(columns = {'lat': 'dest_lat', 'lng': 'dest_lng'}, inplace=True)"
   ]
  },
  {
   "cell_type": "code",
   "execution_count": 14,
   "metadata": {
    "collapsed": true
   },
   "outputs": [],
   "source": [
    "# Load blockgroup data with latitude and longitudes; will be merged with Google API\n",
    "blockgroup_mapping = pd.read_csv('SeattleCensusBlockGroups.csv', dtype={'tract_blkgrp': str})\n",
    "blockgroup_mapping['tract_blkgrp'] = '530330' + blockgroup_mapping['tract_blkgrp']\n",
    "orig_pts = blockgroup_mapping.centroid.apply(shapely.wkt.loads)\n",
    "blockgroup_mapping['orig_lng'] = pd.DataFrame([kk.x for kk in orig_pts])\n",
    "blockgroup_mapping['orig_lat'] = pd.DataFrame([kk.y for kk in orig_pts])\n",
    "origin_blockgroups = blockgroup_mapping [['tract_blkgrp', 'orig_lat', 'orig_lng']]"
   ]
  },
  {
   "cell_type": "code",
   "execution_count": 15,
   "metadata": {
    "collapsed": true
   },
   "outputs": [],
   "source": [
    "# origin_merged will be an input data for 'evaluate_features' function\n",
    "origin_merged = pd.merge(left=input_destinations, right=origin_blockgroups, how='left', left_on='origin', right_on='tract_blkgrp')\n",
    "origin_merged = origin_merged[['origin', 'dest_lat', 'orig_lat','dest_lng', 'orig_lng', 'rank', 'distance', 'class']]"
   ]
  },
  {
   "cell_type": "code",
   "execution_count": 16,
   "metadata": {},
   "outputs": [
    {
     "data": {
      "text/html": [
       "<div>\n",
       "<style scoped>\n",
       "    .dataframe tbody tr th:only-of-type {\n",
       "        vertical-align: middle;\n",
       "    }\n",
       "\n",
       "    .dataframe tbody tr th {\n",
       "        vertical-align: top;\n",
       "    }\n",
       "\n",
       "    .dataframe thead th {\n",
       "        text-align: right;\n",
       "    }\n",
       "</style>\n",
       "<table border=\"1\" class=\"dataframe\">\n",
       "  <thead>\n",
       "    <tr style=\"text-align: right;\">\n",
       "      <th></th>\n",
       "      <th>origin</th>\n",
       "      <th>proximity_ratio_test</th>\n",
       "      <th>vertical_horizontal_ratio_test</th>\n",
       "      <th>average_distance_test</th>\n",
       "      <th>weighted_under_2</th>\n",
       "      <th>weighted_2_to_10</th>\n",
       "      <th>weighted_proximity_ratio</th>\n",
       "    </tr>\n",
       "  </thead>\n",
       "  <tbody>\n",
       "    <tr>\n",
       "      <th>0</th>\n",
       "      <td>530330001001</td>\n",
       "      <td>0.666667</td>\n",
       "      <td>3.736674</td>\n",
       "      <td>5.789315</td>\n",
       "      <td>0.000000</td>\n",
       "      <td>1.062795</td>\n",
       "      <td>0.000000</td>\n",
       "    </tr>\n",
       "    <tr>\n",
       "      <th>1</th>\n",
       "      <td>530330001002</td>\n",
       "      <td>1.666667</td>\n",
       "      <td>3.323772</td>\n",
       "      <td>3.868794</td>\n",
       "      <td>47.348381</td>\n",
       "      <td>57.728930</td>\n",
       "      <td>0.820185</td>\n",
       "    </tr>\n",
       "    <tr>\n",
       "      <th>2</th>\n",
       "      <td>530330001003</td>\n",
       "      <td>4.545455</td>\n",
       "      <td>1.282848</td>\n",
       "      <td>1.798165</td>\n",
       "      <td>4358.269206</td>\n",
       "      <td>2385.508828</td>\n",
       "      <td>1.826977</td>\n",
       "    </tr>\n",
       "    <tr>\n",
       "      <th>4</th>\n",
       "      <td>530330001005</td>\n",
       "      <td>1.200000</td>\n",
       "      <td>11.951093</td>\n",
       "      <td>2.122622</td>\n",
       "      <td>499.879693</td>\n",
       "      <td>1601.523210</td>\n",
       "      <td>0.312128</td>\n",
       "    </tr>\n",
       "    <tr>\n",
       "      <th>5</th>\n",
       "      <td>530330002002</td>\n",
       "      <td>2.428571</td>\n",
       "      <td>5.419316</td>\n",
       "      <td>1.592186</td>\n",
       "      <td>15772.393999</td>\n",
       "      <td>9619.110490</td>\n",
       "      <td>1.639694</td>\n",
       "    </tr>\n",
       "  </tbody>\n",
       "</table>\n",
       "</div>"
      ],
      "text/plain": [
       "         origin  proximity_ratio_test  vertical_horizontal_ratio_test  \\\n",
       "0  530330001001              0.666667                        3.736674   \n",
       "1  530330001002              1.666667                        3.323772   \n",
       "2  530330001003              4.545455                        1.282848   \n",
       "4  530330001005              1.200000                       11.951093   \n",
       "5  530330002002              2.428571                        5.419316   \n",
       "\n",
       "   average_distance_test  weighted_under_2  weighted_2_to_10  \\\n",
       "0               5.789315          0.000000          1.062795   \n",
       "1               3.868794         47.348381         57.728930   \n",
       "2               1.798165       4358.269206       2385.508828   \n",
       "4               2.122622        499.879693       1601.523210   \n",
       "5               1.592186      15772.393999       9619.110490   \n",
       "\n",
       "   weighted_proximity_ratio  \n",
       "0                  0.000000  \n",
       "1                  0.820185  \n",
       "2                  1.826977  \n",
       "4                  0.312128  \n",
       "5                  1.639694  "
      ]
     },
     "execution_count": 16,
     "metadata": {},
     "output_type": "execute_result"
    }
   ],
   "source": [
    "# One-time computation of psrc: generate three features\n",
    "df_psrc = prepare_psrc(psrc_rawdat.copy())\n",
    "df_psrc.head()"
   ]
  },
  {
   "cell_type": "code",
   "execution_count": 17,
   "metadata": {},
   "outputs": [
    {
     "data": {
      "image/png": "[encoded data removed]",
      "text/plain": [
       "<Figure size 432x288 with 1 Axes>"
      ]
     },
     "metadata": {},
     "output_type": "display_data"
    },
    {
     "data": {
      "image/png": "[encoded data removed]",
      "text/plain": [
       "<Figure size 432x288 with 1 Axes>"
      ]
     },
     "metadata": {},
     "output_type": "display_data"
    },
    {
     "data": {
      "image/png": "[encoded data removed]",
      "text/plain": [
       "<Figure size 432x288 with 1 Axes>"
      ]
     },
     "metadata": {},
     "output_type": "display_data"
    }
   ],
   "source": [
    "\"\"\"\n",
    "You can play around here!\n",
    "\"\"\"\n",
    "#testArray = [3, 5, 2, 2, 2, 2, 3, 0, 1, 2]\n",
    "testArray = [0, 8, 0, 0, 0, 0, 0, 0, 0, 3]\n",
    "df_google = calculate_features(origin_merged, testArray)\n",
    "googled_psrc = df_psrc.loc[df_psrc['origin'].isin(df_google['origin'])]\n",
    "draw_testplots(googled_psrc, df_google)"
   ]
  },
  {
   "cell_type": "code",
   "execution_count": 18,
   "metadata": {},
   "outputs": [
    {
     "data": {
      "text/html": [
       "<div>\n",
       "<style scoped>\n",
       "    .dataframe tbody tr th:only-of-type {\n",
       "        vertical-align: middle;\n",
       "    }\n",
       "\n",
       "    .dataframe tbody tr th {\n",
       "        vertical-align: top;\n",
       "    }\n",
       "\n",
       "    .dataframe thead th {\n",
       "        text-align: right;\n",
       "    }\n",
       "</style>\n",
       "<table border=\"1\" class=\"dataframe\">\n",
       "  <thead>\n",
       "    <tr style=\"text-align: right;\">\n",
       "      <th></th>\n",
       "      <th>origin</th>\n",
       "      <th>proximity_ratio_test</th>\n",
       "      <th>vertical_horizontal_ratio_test</th>\n",
       "      <th>average_distance_test</th>\n",
       "      <th>weighted_under_2</th>\n",
       "      <th>weighted_2_to_10</th>\n",
       "      <th>weighted_proximity_ratio</th>\n",
       "    </tr>\n",
       "  </thead>\n",
       "  <tbody>\n",
       "    <tr>\n",
       "      <th>2</th>\n",
       "      <td>530330001003</td>\n",
       "      <td>4.545455</td>\n",
       "      <td>1.282848</td>\n",
       "      <td>1.798165</td>\n",
       "      <td>4358.269206</td>\n",
       "      <td>2385.508828</td>\n",
       "      <td>1.826977</td>\n",
       "    </tr>\n",
       "    <tr>\n",
       "      <th>4</th>\n",
       "      <td>530330001005</td>\n",
       "      <td>1.200000</td>\n",
       "      <td>11.951093</td>\n",
       "      <td>2.122622</td>\n",
       "      <td>499.879693</td>\n",
       "      <td>1601.523210</td>\n",
       "      <td>0.312128</td>\n",
       "    </tr>\n",
       "    <tr>\n",
       "      <th>12</th>\n",
       "      <td>530330004011</td>\n",
       "      <td>0.746032</td>\n",
       "      <td>18.715654</td>\n",
       "      <td>3.870375</td>\n",
       "      <td>2806.797095</td>\n",
       "      <td>3127.385548</td>\n",
       "      <td>0.897490</td>\n",
       "    </tr>\n",
       "    <tr>\n",
       "      <th>13</th>\n",
       "      <td>530330004013</td>\n",
       "      <td>0.622222</td>\n",
       "      <td>3.436791</td>\n",
       "      <td>3.944847</td>\n",
       "      <td>1909.872149</td>\n",
       "      <td>523.939229</td>\n",
       "      <td>3.645217</td>\n",
       "    </tr>\n",
       "    <tr>\n",
       "      <th>19</th>\n",
       "      <td>530330006001</td>\n",
       "      <td>0.866667</td>\n",
       "      <td>4.048761</td>\n",
       "      <td>2.928222</td>\n",
       "      <td>3662.923580</td>\n",
       "      <td>5853.888547</td>\n",
       "      <td>0.625725</td>\n",
       "    </tr>\n",
       "  </tbody>\n",
       "</table>\n",
       "</div>"
      ],
      "text/plain": [
       "          origin  proximity_ratio_test  vertical_horizontal_ratio_test  \\\n",
       "2   530330001003              4.545455                        1.282848   \n",
       "4   530330001005              1.200000                       11.951093   \n",
       "12  530330004011              0.746032                       18.715654   \n",
       "13  530330004013              0.622222                        3.436791   \n",
       "19  530330006001              0.866667                        4.048761   \n",
       "\n",
       "    average_distance_test  weighted_under_2  weighted_2_to_10  \\\n",
       "2                1.798165       4358.269206       2385.508828   \n",
       "4                2.122622        499.879693       1601.523210   \n",
       "12               3.870375       2806.797095       3127.385548   \n",
       "13               3.944847       1909.872149        523.939229   \n",
       "19               2.928222       3662.923580       5853.888547   \n",
       "\n",
       "    weighted_proximity_ratio  \n",
       "2                   1.826977  \n",
       "4                   0.312128  \n",
       "12                  0.897490  \n",
       "13                  3.645217  \n",
       "19                  0.625725  "
      ]
     },
     "execution_count": 18,
     "metadata": {},
     "output_type": "execute_result"
    }
   ],
   "source": [
    "googled_psrc.head()"
   ]
  },
  {
   "cell_type": "code",
   "execution_count": 19,
   "metadata": {},
   "outputs": [
    {
     "data": {
      "image/png": "[encoded data removed]",
      "text/plain": [
       "<Figure size 432x288 with 1 Axes>"
      ]
     },
     "metadata": {},
     "output_type": "display_data"
    }
   ],
   "source": [
    "plt.scatter(googled_psrc.iloc[:,6], df_google.iloc[:,1])\n",
    "plt.xlabel('PSRC: Weighted Proximity Ratio', fontsize=15)\n",
    "plt.ylabel('Google API: Proximity Ratio', fontsize=15)\n",
    "plt.xlim(min(googled_psrc.iloc[:,6].min(), df_google.iloc[:,1].min()), \n",
    "         max(googled_psrc.iloc[:,6].max(), df_google.iloc[:,1].max()))\n",
    "plt.ylim(min(googled_psrc.iloc[:,6].min(), df_google.iloc[:,1].min()), \n",
    "         max(googled_psrc.iloc[:,6].max(), df_google.iloc[:,1].max())) \n",
    "plt.show()"
   ]
  },
  {
   "cell_type": "code",
   "execution_count": 20,
   "metadata": {},
   "outputs": [
    {
     "data": {
      "text/plain": [
       "\"plt.scatter(googled_psrc['proximity_ratio_test'], df_google['proximity_ratio_test'])\\nplt.xlim(0, 6)\\nplta.ylim(0, 6)\\nplt.show()\\n\""
      ]
     },
     "execution_count": 20,
     "metadata": {},
     "output_type": "execute_result"
    }
   ],
   "source": [
    "\"\"\"plt.scatter(googled_psrc['proximity_ratio_test'], df_google['proximity_ratio_test'])\n",
    "plt.xlim(0, 6)\n",
    "plta.ylim(0, 6)\n",
    "plt.show()\n",
    "\"\"\""
   ]
  },
  {
   "cell_type": "code",
   "execution_count": 21,
   "metadata": {},
   "outputs": [
    {
     "name": "stdout",
     "output_type": "stream",
     "text": [
      "Total number of combinations: 10\n",
      "\n",
      "Choose the following combination: \n",
      "\n",
      "urban village        4\n",
      "citywide            13\n",
      "destination park     3\n",
      "supermarket          3\n",
      "library              3\n",
      "hospital             2\n",
      "pharmacy             3\n",
      "post_office          3\n",
      "school               3\n",
      "cafe                 3\n",
      "Name: 5, dtype: int64\n"
     ]
    }
   ],
   "source": [
    "res = calculate_mse(df_psrc, origin_merged)\n",
    "#res"
   ]
  },
  {
   "cell_type": "code",
   "execution_count": 43,
   "metadata": {},
   "outputs": [
    {
     "data": {
      "text/plain": [
       "(array([5]),)"
      ]
     },
     "execution_count": 43,
     "metadata": {},
     "output_type": "execute_result"
    }
   ],
   "source": [
    "np.where(res['rank_from_average_distance'] == 1.0)"
   ]
  },
  {
   "cell_type": "code",
   "execution_count": 44,
   "metadata": {},
   "outputs": [
    {
     "data": {
      "text/plain": [
       "from_proximity_ratio            1.187987\n",
       "from_vert_hori_ratio          151.096000\n",
       "from_average_distance           0.631519\n",
       "rank_from_average_distance     10.000000\n",
       "Name: 1, dtype: float64"
      ]
     },
     "execution_count": 44,
     "metadata": {},
     "output_type": "execute_result"
    }
   ],
   "source": [
    "res.loc[res['rank_from_average_distance'].idxmax()]"
   ]
  },
  {
   "cell_type": "code",
   "execution_count": 46,
   "metadata": {},
   "outputs": [
    {
     "data": {
      "text/plain": [
       "5"
      ]
     },
     "execution_count": 46,
     "metadata": {},
     "output_type": "execute_result"
    }
   ],
   "source": [
    "res['rank_from_average_distance'].idxmin()"
   ]
  },
  {
   "cell_type": "code",
   "execution_count": null,
   "metadata": {
    "collapsed": true
   },
   "outputs": [],
   "source": []
  }
 ],
 "metadata": {
  "kernelspec": {
   "display_name": "Python 3",
   "language": "python",
   "name": "python3"
  },
  "language_info": {
   "codemirror_mode": {
    "name": "ipython",
    "version": 3
   },
   "file_extension": ".py",
   "mimetype": "text/x-python",
   "name": "python",
   "nbconvert_exporter": "python",
   "pygments_lexer": "ipython3",
   "version": "3.6.3"
  }
 },
 "nbformat": 4,
 "nbformat_minor": 2
}
