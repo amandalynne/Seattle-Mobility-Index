{
 "cells": [
  {
   "cell_type": "markdown",
   "metadata": {},
   "source": [
    "## Universal Geocoder Sample\n",
    "This is a sample test of the Seattle Universal Geocoder. Instructions:\n",
    "1. Import universal_geocoder.py and \n",
    "2. Call universal_geocoder.geocode(latitude,longitude)\n",
    "3. Returns a list with the following location values:\n",
    "    \n",
    "    * 0 - Informal Neighborhood Short Name\n",
    "    * 1 - Informal Neighborhood Long Name\n",
    "    * 2 - Council District\n",
    "    * 3 - Zip Code\n",
    "    * 4 - Urban Village\n",
    "    * 5 - Block Group\n",
    "    * 6 - Geographical Area"
   ]
  },
  {
   "cell_type": "code",
   "execution_count": 4,
   "metadata": {},
   "outputs": [],
   "source": [
    "import universal_geocoder\n",
    "import pandas as pd"
   ]
  },
  {
   "cell_type": "code",
   "execution_count": 5,
   "metadata": {},
   "outputs": [
    {
     "name": "stdout",
     "output_type": "stream",
     "text": [
      "     BLOCKGROUP URBAN_VILLAGE_NAME URBAN_VILLAGE_TYPE  \\\n",
      "0  530330001001   Outside Villages   Outside Villages   \n",
      "1  530330001002   Outside Villages   Outside Villages   \n",
      "2  530330001003   Outside Villages   Outside Villages   \n",
      "3  530330001004   Outside Villages   Outside Villages   \n",
      "4  530330001005   Outside Villages   Outside Villages   \n",
      "\n",
      "  NEIGHBORHOOD_DISTRICT_NAME  \\\n",
      "0                      North   \n",
      "1                      North   \n",
      "2                      North   \n",
      "3                      North   \n",
      "4                      North   \n",
      "\n",
      "                              NEIGHBORHOODS_INCLUDED                CRA_NAME  \\\n",
      "0  Cedar Park, Lake City, Meadowbrook, Matthews B...  Cedar Park/Meadowbrook   \n",
      "1  Cedar Park, Lake City, Meadowbrook, Matthews B...  Cedar Park/Meadowbrook   \n",
      "2  Cedar Park, Lake City, Meadowbrook, Matthews B...  Cedar Park/Meadowbrook   \n",
      "3  Cedar Park, Lake City, Meadowbrook, Matthews B...  Cedar Park/Meadowbrook   \n",
      "4  Cedar Park, Lake City, Meadowbrook, Matthews B...  Cedar Park/Meadowbrook   \n",
      "\n",
      "   PCT_IN_VILLAGE         AREA     CT_LON    CT_LAT  \n",
      "0        1.000000  8967593.023 -122.28469  47.72683  \n",
      "1        1.000000  3103999.781 -122.29247  47.72932  \n",
      "2        0.666667  3990297.626 -122.28945  47.72281  \n",
      "3        1.000000  1360694.387 -122.29445  47.73194  \n",
      "4        0.571429  2481027.135 -122.29444  47.72293  \n"
     ]
    }
   ],
   "source": [
    "# load the coordinates\n",
    "df_Origins = pd.read_csv('V:\\Asset Management Program\\Data Science\\Geographies\\\\SeattleCensusBlocksandNeighborhoodCorrelationFile.csv')\n",
    "print (df_Origins.head())"
   ]
  },
  {
   "cell_type": "code",
   "execution_count": 6,
   "metadata": {},
   "outputs": [],
   "source": [
    "#print (df_trip)\n",
    "Location = []\n",
    "geocode = []\n",
    "NeighborhoodShort = []\n",
    "NeighborhoodLong = []\n",
    "CouncilDistrict = []\n",
    "ZipCode = []\n",
    "UrbanVillage = []\n",
    "BlockGroup = []\n",
    "GeographicalArea = []\n",
    "Latitude = []\n",
    "Longitude = []\n",
    "\n",
    "for index, row in df_Origins.iterrows():\n",
    "    \n",
    "    geocode = universal_geocoder.geocode(float(row['CT_LAT']),float(row['CT_LON']))\n",
    "    #print (geocode)\n",
    "    \n",
    "    Location.append(row['BLOCKGROUP'])\n",
    "    NeighborhoodShort.append(geocode[0])\n",
    "    NeighborhoodLong.append(geocode[1])\n",
    "    CouncilDistrict.append(geocode[2])\n",
    "    ZipCode.append(geocode[3])    \n",
    "    UrbanVillage.append(geocode[4])    \n",
    "    BlockGroup.append(geocode[5])\n",
    "    GeographicalArea.append(geocode[6])\n",
    "    Longitude.append(row['CT_LON'])    \n",
    "    Latitude.append(row['CT_LAT'])\n",
    "\n",
    "\n",
    "df_geo = pd.DataFrame()\n",
    "df_geo['location'] = Location\n",
    "df_geo['neighborhood_short'] = NeighborhoodShort\n",
    "df_geo['neigbhorhood_long'] = NeighborhoodLong\n",
    "df_geo['council_district'] = CouncilDistrict\n",
    "df_geo['zipcode'] = ZipCode\n",
    "df_geo['blockgroup'] = BlockGroup\n",
    "df_geo['urban_village'] = UrbanVillage\n",
    "df_geo['geographical_area'] = GeographicalArea\n",
    "df_geo['latitude'] = Latitude\n",
    "df_geo['longitude'] = Longitude\n"
   ]
  },
  {
   "cell_type": "code",
   "execution_count": null,
   "metadata": {},
   "outputs": [],
   "source": [
    "df_geo.to_csv(\"V:\\\\Asset Management Program\\\\Data Science\\\\Data\\\\Blockgroup_geocode.csv\", mode='w', header=True, index=False)\n",
    "print (df_geo.head())"
   ]
  }
 ],
 "metadata": {
  "kernelspec": {
   "display_name": "Python 3",
   "language": "python",
   "name": "python3"
  },
  "language_info": {
   "codemirror_mode": {
    "name": "ipython",
    "version": 3
   },
   "file_extension": ".py",
   "mimetype": "text/x-python",
   "name": "python",
   "nbconvert_exporter": "python",
   "pygments_lexer": "ipython3",
   "version": "3.6.5"
  }
 },
 "nbformat": 4,
 "nbformat_minor": 2
}
